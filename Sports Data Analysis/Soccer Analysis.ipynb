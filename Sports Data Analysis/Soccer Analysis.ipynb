{
 "cells": [
  {
   "cell_type": "markdown",
   "id": "c33f19c0",
   "metadata": {},
   "source": [
    "\n",
    "\n",
    "<center><img src=\"https://cdn-icons-png.freepik.com/512/4297/4297975.png\" width=150 height=150 /></center>"
   ]
  },
  {
   "cell_type": "markdown",
   "id": "67a9b6c9",
   "metadata": {},
   "source": [
    "# The Pythagorean Expectation\n",
    "\n",
    "\"Pythagorean expectation is a sports analytics formula devised by Bill James to estimate the percentage of games a baseball team \"should\" have won based on the number of runs they scored and allowed. Comparing a team's actual and Pythagorean winning percentage can be used to make predictions and evaluate which teams are over-performing and under-performing. The name comes from the formula's resemblance to the Pythagorean theorem.\"\n",
    "\n",
    "The basic formula is:\n",
    "\n",
    "\n",
    "\n",
    "### $${\\rm Win\\  Ratio} = {\\frac{{\\rm runs\\ scored\\ ²} }{{\\rm runs\\ scored\\ ² + runs\\ allowed\\ ²}}} = {\\frac{{\\rm 1} }{{\\rm 1 + (runs\\ allowed\\  / \\ runs\\ scored)\\ ²}}}$$\n",
    "⠀⠀⠀⠀⠀⠀⠀⠀⠀⠀⠀⠀⠀⠀⠀⠀⠀⠀⠀⠀⠀⠀⠀⠀⠀⠀⠀⠀⠀⠀⠀⠀⠀⠀⠀⠀\n",
    "⠀⠀⠀⠀⠀⠀⠀⠀⠀⠀⠀⠀⠀⠀⠀⠀⠀⠀⠀⠀⠀⠀⠀⠀⠀⠀⠀⠀⠀⠀⠀⠀⠀⠀⠀⠀⠀⠀⠀⠀⠀⠀⠀⠀⠀\n",
    "\n",
    "Where **runs scored** is runs/points/goals scored and **runs allowed** is runs/points/goals conceded.\n",
    "\n",
    "<br> \n",
    "\n",
    "\n",
    "**Goal:**\n",
    "\n",
    "The goal of this analysis is to apply **Pythagorean Expectation** to predict which teams will under/overperform on the second half o the season. I am not going to focus on the details of all match statistics. Just on the Pythagorean Expectation analysis\n",
    "\n",
    "<br> \n",
    "\n",
    "**League:**\n",
    "\n",
    "I am going to focus on the English football league **Premier League**. Specifically  on the last season that started at: 11/08/2023 and ended date: 19/05/2024.\n",
    "\n",
    "\n",
    "\"The Premier League is the highest level of the English football league system. Contested by 20 clubs, it operates on a system of promotion and relegation with the English Football League (EFL). Seasons usually run from August to May, with each team playing 38 matches: two against each other, one home and one away. Most games are played on weekend afternoons, with occasional weekday evening fixtures.\"\n"
   ]
  },
  {
   "cell_type": "markdown",
   "id": "62981655",
   "metadata": {},
   "source": [
    "## Import Packages"
   ]
  },
  {
   "cell_type": "code",
   "execution_count": 274,
   "id": "e151fe76",
   "metadata": {},
   "outputs": [],
   "source": [
    "import warnings\n",
    "warnings.filterwarnings('ignore')\n",
    "\n",
    "import pandas as pd\n",
    "import numpy as np\n",
    "import statsmodels.formula.api as smf\n",
    "import scipy.stats as stats\n",
    "import matplotlib.pyplot as plt\n",
    "import seaborn as sns\n",
    "import datetime as dt\n",
    "import pyodbc"
   ]
  },
  {
   "cell_type": "markdown",
   "id": "34227d24",
   "metadata": {},
   "source": [
    "## Import data"
   ]
  },
  {
   "cell_type": "code",
   "execution_count": 275,
   "id": "4046fea6",
   "metadata": {},
   "outputs": [],
   "source": [
    "# String connection soccer database (local)\n",
    "\n",
    "cnxn = pyodbc.connect(\"Driver={SQL Server Native Client 11.0};\"\n",
    "                      \"Server=DANILO;\"\n",
    "                      \"Database=SoccerDB;\"\n",
    "                      \"Trusted_Connection=yes;\")\n",
    "crsr = cnxn.cursor()\n",
    "\n",
    "crsr.fast_executemany = True"
   ]
  },
  {
   "cell_type": "code",
   "execution_count": 276,
   "id": "59b82e22",
   "metadata": {},
   "outputs": [],
   "source": [
    "# Query database with the data just for the scope of this analysis\n",
    "\n",
    "matchstats_query = \"\"\"SELECT  fixture_id,\n",
    "                               team_id,\n",
    "                                location,\n",
    "                               stats_value\n",
    "                        FROM dbo.Matchstatistics \n",
    "                        WHERE stats_name = 'goals'\n",
    "                    \"\"\"\n",
    "\n",
    "fixtures_query = \"\"\"SELECT id fixture_id,\n",
    "                         round_id,\n",
    "                           league_id,\n",
    "                           season_id,\n",
    "                           name teams_name,\n",
    "                           starting_at\n",
    "                    FROM dbo.Fixture\n",
    "                    \"\"\"\n",
    "\n",
    "teams_query = \"\"\"SELECT id team_id,\n",
    "                        name team_name\n",
    "                 FROM dbo.Teams\n",
    "              \"\"\"\n",
    "\n",
    "leagues_query = \"\"\"select id league_id,\n",
    "                           name league_name\n",
    "                    FROM leagues\n",
    "                    WHERE active = 1\n",
    "                \"\"\"\n",
    "\n",
    "seasons_query = \"\"\"\n",
    "                    select id season_id,\n",
    "                           league_id,\n",
    "                           name season_name\n",
    "                    FROM seasons\n",
    "                \"\"\"\n",
    "\n",
    "rounds_query = \"\"\"\n",
    "                SELECT id round_id,\n",
    "                       name round_name,\n",
    "                       starting_at,\n",
    "                       ending_at\n",
    "                FROM rounds\n",
    "                \"\"\""
   ]
  },
  {
   "cell_type": "code",
   "execution_count": 277,
   "id": "0f7f5e71",
   "metadata": {},
   "outputs": [],
   "source": [
    "# fetch tables and convert to pandas dataframe\n",
    "stats = pd.read_sql(matchstats_query, cnxn)\n",
    "fixtures = pd.read_sql(fixtures_query, cnxn)\n",
    "teams = pd.read_sql(teams_query, cnxn)\n",
    "leagues = pd.read_sql(leagues_query, cnxn)\n",
    "seasons = pd.read_sql(seasons_query, cnxn)\n",
    "rounds = pd.read_sql(rounds_query, cnxn)\n",
    "\n",
    "pd.set_option('display.max_columns', None)"
   ]
  },
  {
   "cell_type": "markdown",
   "id": "b12e51f9",
   "metadata": {},
   "source": [
    "## Gahter basic Information"
   ]
  },
  {
   "cell_type": "code",
   "execution_count": 278,
   "id": "39fd56d8",
   "metadata": {},
   "outputs": [
    {
     "name": "stdout",
     "output_type": "stream",
     "text": [
      "Stats\n",
      "Rows: 937751 \n",
      "Cols: 4\n",
      "\n",
      "Matches\n",
      "Rows: 639888 \n",
      "Cols: 6\n",
      "\n",
      "Teams\n",
      "Rows: 58843 \n",
      "Cols: 2\n",
      "\n",
      "Leagues\n",
      "Rows: 2125 \n",
      "Cols: 2\n",
      "\n",
      "Seasons\n",
      "Rows: 14345 \n",
      "Cols: 3\n",
      "\n"
     ]
    }
   ],
   "source": [
    "# Data Size\n",
    "print(f'Stats\\nRows: {stats.shape[0]} \\nCols: {stats.shape[1]}\\n')\n",
    "print(f'Matches\\nRows: {fixtures.shape[0]} \\nCols: {fixtures.shape[1]}\\n')\n",
    "print(f'Teams\\nRows: {teams.shape[0]} \\nCols: {teams.shape[1]}\\n')\n",
    "print(f'Leagues\\nRows: {leagues.shape[0]} \\nCols: {leagues.shape[1]}\\n')\n",
    "print(f'Seasons\\nRows: {seasons.shape[0]} \\nCols: {seasons.shape[1]}\\n')"
   ]
  },
  {
   "cell_type": "code",
   "execution_count": 279,
   "id": "5cff6162",
   "metadata": {},
   "outputs": [
    {
     "name": "stdout",
     "output_type": "stream",
     "text": [
      "<class 'pandas.core.frame.DataFrame'>\n",
      "RangeIndex: 937751 entries, 0 to 937750\n",
      "Data columns (total 4 columns):\n",
      " #   Column       Non-Null Count   Dtype  \n",
      "---  ------       --------------   -----  \n",
      " 0   fixture_id   937751 non-null  int64  \n",
      " 1   team_id      937751 non-null  int64  \n",
      " 2   location     937751 non-null  object \n",
      " 3   stats_value  937524 non-null  float64\n",
      "dtypes: float64(1), int64(2), object(1)\n",
      "memory usage: 28.6+ MB\n"
     ]
    }
   ],
   "source": [
    "stats.info()"
   ]
  },
  {
   "cell_type": "code",
   "execution_count": 280,
   "id": "eb4c09b2",
   "metadata": {},
   "outputs": [
    {
     "data": {
      "text/html": [
       "<div>\n",
       "<style scoped>\n",
       "    .dataframe tbody tr th:only-of-type {\n",
       "        vertical-align: middle;\n",
       "    }\n",
       "\n",
       "    .dataframe tbody tr th {\n",
       "        vertical-align: top;\n",
       "    }\n",
       "\n",
       "    .dataframe thead th {\n",
       "        text-align: right;\n",
       "    }\n",
       "</style>\n",
       "<table border=\"1\" class=\"dataframe\">\n",
       "  <thead>\n",
       "    <tr style=\"text-align: right;\">\n",
       "      <th></th>\n",
       "      <th>count</th>\n",
       "      <th>mean</th>\n",
       "      <th>std</th>\n",
       "      <th>min</th>\n",
       "      <th>25%</th>\n",
       "      <th>50%</th>\n",
       "      <th>75%</th>\n",
       "      <th>max</th>\n",
       "    </tr>\n",
       "  </thead>\n",
       "  <tbody>\n",
       "    <tr>\n",
       "      <th>fixture_id</th>\n",
       "      <td>937751.0</td>\n",
       "      <td>18778207.96</td>\n",
       "      <td>231504.74</td>\n",
       "      <td>11989550.0</td>\n",
       "      <td>18579379.5</td>\n",
       "      <td>18835660.0</td>\n",
       "      <td>18961458.5</td>\n",
       "      <td>19126224.0</td>\n",
       "    </tr>\n",
       "    <tr>\n",
       "      <th>team_id</th>\n",
       "      <td>937751.0</td>\n",
       "      <td>111090.94</td>\n",
       "      <td>116076.31</td>\n",
       "      <td>1.0</td>\n",
       "      <td>6893.0</td>\n",
       "      <td>26480.0</td>\n",
       "      <td>248187.0</td>\n",
       "      <td>272952.0</td>\n",
       "    </tr>\n",
       "    <tr>\n",
       "      <th>stats_value</th>\n",
       "      <td>937524.0</td>\n",
       "      <td>1.52</td>\n",
       "      <td>1.53</td>\n",
       "      <td>0.0</td>\n",
       "      <td>0.0</td>\n",
       "      <td>1.0</td>\n",
       "      <td>2.0</td>\n",
       "      <td>42.0</td>\n",
       "    </tr>\n",
       "  </tbody>\n",
       "</table>\n",
       "</div>"
      ],
      "text/plain": [
       "                count         mean        std         min         25%  \\\n",
       "fixture_id   937751.0  18778207.96  231504.74  11989550.0  18579379.5   \n",
       "team_id      937751.0    111090.94  116076.31         1.0      6893.0   \n",
       "stats_value  937524.0         1.52       1.53         0.0         0.0   \n",
       "\n",
       "                    50%         75%         max  \n",
       "fixture_id   18835660.0  18961458.5  19126224.0  \n",
       "team_id         26480.0    248187.0    272952.0  \n",
       "stats_value         1.0         2.0        42.0  "
      ]
     },
     "execution_count": 280,
     "metadata": {},
     "output_type": "execute_result"
    }
   ],
   "source": [
    "stats.describe().T.round(2)"
   ]
  },
  {
   "cell_type": "code",
   "execution_count": 281,
   "id": "4c65fab9",
   "metadata": {},
   "outputs": [
    {
     "data": {
      "text/html": [
       "<div>\n",
       "<style scoped>\n",
       "    .dataframe tbody tr th:only-of-type {\n",
       "        vertical-align: middle;\n",
       "    }\n",
       "\n",
       "    .dataframe tbody tr th {\n",
       "        vertical-align: top;\n",
       "    }\n",
       "\n",
       "    .dataframe thead th {\n",
       "        text-align: right;\n",
       "    }\n",
       "</style>\n",
       "<table border=\"1\" class=\"dataframe\">\n",
       "  <thead>\n",
       "    <tr style=\"text-align: right;\">\n",
       "      <th></th>\n",
       "      <th>fixture_id</th>\n",
       "      <th>team_id</th>\n",
       "      <th>location</th>\n",
       "      <th>stats_value</th>\n",
       "    </tr>\n",
       "  </thead>\n",
       "  <tbody>\n",
       "  </tbody>\n",
       "</table>\n",
       "</div>"
      ],
      "text/plain": [
       "Empty DataFrame\n",
       "Columns: [fixture_id, team_id, location, stats_value]\n",
       "Index: []"
      ]
     },
     "execution_count": 281,
     "metadata": {},
     "output_type": "execute_result"
    }
   ],
   "source": [
    "stats[stats.duplicated()]"
   ]
  },
  {
   "cell_type": "code",
   "execution_count": 282,
   "id": "85569430",
   "metadata": {},
   "outputs": [
    {
     "data": {
      "text/plain": [
       "fixture_id       0\n",
       "team_id          0\n",
       "location         0\n",
       "stats_value    227\n",
       "dtype: int64"
      ]
     },
     "execution_count": 282,
     "metadata": {},
     "output_type": "execute_result"
    }
   ],
   "source": [
    "stats.isna().sum()"
   ]
  },
  {
   "cell_type": "code",
   "execution_count": 283,
   "id": "16e7da1d",
   "metadata": {},
   "outputs": [
    {
     "name": "stdout",
     "output_type": "stream",
     "text": [
      "<class 'pandas.core.frame.DataFrame'>\n",
      "RangeIndex: 639888 entries, 0 to 639887\n",
      "Data columns (total 6 columns):\n",
      " #   Column       Non-Null Count   Dtype         \n",
      "---  ------       --------------   -----         \n",
      " 0   fixture_id   639888 non-null  int64         \n",
      " 1   round_id     528464 non-null  float64       \n",
      " 2   league_id    639888 non-null  int64         \n",
      " 3   season_id    639888 non-null  int64         \n",
      " 4   teams_name   639888 non-null  object        \n",
      " 5   starting_at  639888 non-null  datetime64[ns]\n",
      "dtypes: datetime64[ns](1), float64(1), int64(3), object(1)\n",
      "memory usage: 29.3+ MB\n"
     ]
    }
   ],
   "source": [
    "fixtures.info()"
   ]
  },
  {
   "cell_type": "code",
   "execution_count": 284,
   "id": "520d6f4d",
   "metadata": {},
   "outputs": [
    {
     "data": {
      "text/html": [
       "<div>\n",
       "<style scoped>\n",
       "    .dataframe tbody tr th:only-of-type {\n",
       "        vertical-align: middle;\n",
       "    }\n",
       "\n",
       "    .dataframe tbody tr th {\n",
       "        vertical-align: top;\n",
       "    }\n",
       "\n",
       "    .dataframe thead th {\n",
       "        text-align: right;\n",
       "    }\n",
       "</style>\n",
       "<table border=\"1\" class=\"dataframe\">\n",
       "  <thead>\n",
       "    <tr style=\"text-align: right;\">\n",
       "      <th></th>\n",
       "      <th>count</th>\n",
       "      <th>mean</th>\n",
       "      <th>min</th>\n",
       "      <th>25%</th>\n",
       "      <th>50%</th>\n",
       "      <th>75%</th>\n",
       "      <th>max</th>\n",
       "      <th>std</th>\n",
       "    </tr>\n",
       "  </thead>\n",
       "  <tbody>\n",
       "    <tr>\n",
       "      <th>fixture_id</th>\n",
       "      <td>639888.0</td>\n",
       "      <td>18737780.252935</td>\n",
       "      <td>11989550.0</td>\n",
       "      <td>18570396.75</td>\n",
       "      <td>18749456.5</td>\n",
       "      <td>18925301.25</td>\n",
       "      <td>19126224.0</td>\n",
       "      <td>227350.760218</td>\n",
       "    </tr>\n",
       "    <tr>\n",
       "      <th>round_id</th>\n",
       "      <td>528464.0</td>\n",
       "      <td>295703.883754</td>\n",
       "      <td>186733.0</td>\n",
       "      <td>277832.75</td>\n",
       "      <td>295822.0</td>\n",
       "      <td>315076.0</td>\n",
       "      <td>338445.0</td>\n",
       "      <td>22932.648762</td>\n",
       "    </tr>\n",
       "    <tr>\n",
       "      <th>league_id</th>\n",
       "      <td>639888.0</td>\n",
       "      <td>1675.650414</td>\n",
       "      <td>2.0</td>\n",
       "      <td>989.0</td>\n",
       "      <td>1684.0</td>\n",
       "      <td>2497.0</td>\n",
       "      <td>3364.0</td>\n",
       "      <td>912.134143</td>\n",
       "    </tr>\n",
       "    <tr>\n",
       "      <th>season_id</th>\n",
       "      <td>639888.0</td>\n",
       "      <td>20832.498042</td>\n",
       "      <td>15721.0</td>\n",
       "      <td>19828.0</td>\n",
       "      <td>20726.0</td>\n",
       "      <td>21967.0</td>\n",
       "      <td>23525.0</td>\n",
       "      <td>1302.680621</td>\n",
       "    </tr>\n",
       "    <tr>\n",
       "      <th>starting_at</th>\n",
       "      <td>639888</td>\n",
       "      <td>2023-04-09 05:33:11.737490944</td>\n",
       "      <td>2022-01-01 06:05:00</td>\n",
       "      <td>2022-09-17 12:30:00</td>\n",
       "      <td>2023-04-15 00:22:30</td>\n",
       "      <td>2023-11-04 15:00:00</td>\n",
       "      <td>2024-05-20 23:30:00</td>\n",
       "      <td>NaN</td>\n",
       "    </tr>\n",
       "  </tbody>\n",
       "</table>\n",
       "</div>"
      ],
      "text/plain": [
       "                count                           mean                  min  \\\n",
       "fixture_id   639888.0                18737780.252935           11989550.0   \n",
       "round_id     528464.0                  295703.883754             186733.0   \n",
       "league_id    639888.0                    1675.650414                  2.0   \n",
       "season_id    639888.0                   20832.498042              15721.0   \n",
       "starting_at    639888  2023-04-09 05:33:11.737490944  2022-01-01 06:05:00   \n",
       "\n",
       "                             25%                  50%                  75%  \\\n",
       "fixture_id           18570396.75           18749456.5          18925301.25   \n",
       "round_id               277832.75             295822.0             315076.0   \n",
       "league_id                  989.0               1684.0               2497.0   \n",
       "season_id                19828.0              20726.0              21967.0   \n",
       "starting_at  2022-09-17 12:30:00  2023-04-15 00:22:30  2023-11-04 15:00:00   \n",
       "\n",
       "                             max            std  \n",
       "fixture_id            19126224.0  227350.760218  \n",
       "round_id                338445.0   22932.648762  \n",
       "league_id                 3364.0     912.134143  \n",
       "season_id                23525.0    1302.680621  \n",
       "starting_at  2024-05-20 23:30:00            NaN  "
      ]
     },
     "execution_count": 284,
     "metadata": {},
     "output_type": "execute_result"
    }
   ],
   "source": [
    "fixtures.describe().T.round(2)"
   ]
  },
  {
   "cell_type": "code",
   "execution_count": 285,
   "id": "3a3977ba",
   "metadata": {},
   "outputs": [
    {
     "data": {
      "text/html": [
       "<div>\n",
       "<style scoped>\n",
       "    .dataframe tbody tr th:only-of-type {\n",
       "        vertical-align: middle;\n",
       "    }\n",
       "\n",
       "    .dataframe tbody tr th {\n",
       "        vertical-align: top;\n",
       "    }\n",
       "\n",
       "    .dataframe thead th {\n",
       "        text-align: right;\n",
       "    }\n",
       "</style>\n",
       "<table border=\"1\" class=\"dataframe\">\n",
       "  <thead>\n",
       "    <tr style=\"text-align: right;\">\n",
       "      <th></th>\n",
       "      <th>fixture_id</th>\n",
       "      <th>round_id</th>\n",
       "      <th>league_id</th>\n",
       "      <th>season_id</th>\n",
       "      <th>teams_name</th>\n",
       "      <th>starting_at</th>\n",
       "    </tr>\n",
       "  </thead>\n",
       "  <tbody>\n",
       "    <tr>\n",
       "      <th>712</th>\n",
       "      <td>18452320</td>\n",
       "      <td>NaN</td>\n",
       "      <td>705</td>\n",
       "      <td>18411</td>\n",
       "      <td>Comunicaciones vs Malacateco</td>\n",
       "      <td>2022-01-03 02:00:00</td>\n",
       "    </tr>\n",
       "    <tr>\n",
       "      <th>713</th>\n",
       "      <td>18453143</td>\n",
       "      <td>265178.0</td>\n",
       "      <td>1344</td>\n",
       "      <td>19097</td>\n",
       "      <td>Himalayan Sherpa vs Satdobato</td>\n",
       "      <td>2022-01-03 07:15:00</td>\n",
       "    </tr>\n",
       "    <tr>\n",
       "      <th>714</th>\n",
       "      <td>18451856</td>\n",
       "      <td>265036.0</td>\n",
       "      <td>989</td>\n",
       "      <td>18238</td>\n",
       "      <td>Wuhan Zall vs Chongqing Dangdai Lifan</td>\n",
       "      <td>2022-01-03 07:30:00</td>\n",
       "    </tr>\n",
       "    <tr>\n",
       "      <th>715</th>\n",
       "      <td>18451857</td>\n",
       "      <td>265036.0</td>\n",
       "      <td>989</td>\n",
       "      <td>18238</td>\n",
       "      <td>Tianjin Teda vs Shijiazhuang Ever Bright</td>\n",
       "      <td>2022-01-03 07:30:00</td>\n",
       "    </tr>\n",
       "    <tr>\n",
       "      <th>716</th>\n",
       "      <td>18451858</td>\n",
       "      <td>265036.0</td>\n",
       "      <td>989</td>\n",
       "      <td>18238</td>\n",
       "      <td>Dalian Professional vs Qingdao Hainiu</td>\n",
       "      <td>2022-01-03 07:30:00</td>\n",
       "    </tr>\n",
       "    <tr>\n",
       "      <th>...</th>\n",
       "      <td>...</td>\n",
       "      <td>...</td>\n",
       "      <td>...</td>\n",
       "      <td>...</td>\n",
       "      <td>...</td>\n",
       "      <td>...</td>\n",
       "    </tr>\n",
       "    <tr>\n",
       "      <th>54123</th>\n",
       "      <td>18466922</td>\n",
       "      <td>NaN</td>\n",
       "      <td>791</td>\n",
       "      <td>19268</td>\n",
       "      <td>Birmingham Legion vs Louisville City</td>\n",
       "      <td>2022-04-02 23:30:00</td>\n",
       "    </tr>\n",
       "    <tr>\n",
       "      <th>54124</th>\n",
       "      <td>18469569</td>\n",
       "      <td>267155.0</td>\n",
       "      <td>1098</td>\n",
       "      <td>19355</td>\n",
       "      <td>Club Universitario vs Atlético Palmaflor</td>\n",
       "      <td>2022-04-02 23:30:00</td>\n",
       "    </tr>\n",
       "    <tr>\n",
       "      <th>54125</th>\n",
       "      <td>18488015</td>\n",
       "      <td>268455.0</td>\n",
       "      <td>666</td>\n",
       "      <td>19428</td>\n",
       "      <td>San Luis vs Copiapó</td>\n",
       "      <td>2022-04-02 23:30:00</td>\n",
       "    </tr>\n",
       "    <tr>\n",
       "      <th>54126</th>\n",
       "      <td>18488020</td>\n",
       "      <td>268455.0</td>\n",
       "      <td>666</td>\n",
       "      <td>19428</td>\n",
       "      <td>Recoleta vs Rangers</td>\n",
       "      <td>2022-04-02 23:30:00</td>\n",
       "    </tr>\n",
       "    <tr>\n",
       "      <th>54127</th>\n",
       "      <td>18495743</td>\n",
       "      <td>269516.0</td>\n",
       "      <td>800</td>\n",
       "      <td>19461</td>\n",
       "      <td>Hermanos Colmenares vs Monagas</td>\n",
       "      <td>2022-04-02 23:30:00</td>\n",
       "    </tr>\n",
       "  </tbody>\n",
       "</table>\n",
       "<p>3032 rows × 6 columns</p>\n",
       "</div>"
      ],
      "text/plain": [
       "       fixture_id  round_id  league_id  season_id  \\\n",
       "712      18452320       NaN        705      18411   \n",
       "713      18453143  265178.0       1344      19097   \n",
       "714      18451856  265036.0        989      18238   \n",
       "715      18451857  265036.0        989      18238   \n",
       "716      18451858  265036.0        989      18238   \n",
       "...           ...       ...        ...        ...   \n",
       "54123    18466922       NaN        791      19268   \n",
       "54124    18469569  267155.0       1098      19355   \n",
       "54125    18488015  268455.0        666      19428   \n",
       "54126    18488020  268455.0        666      19428   \n",
       "54127    18495743  269516.0        800      19461   \n",
       "\n",
       "                                     teams_name         starting_at  \n",
       "712                Comunicaciones vs Malacateco 2022-01-03 02:00:00  \n",
       "713               Himalayan Sherpa vs Satdobato 2022-01-03 07:15:00  \n",
       "714       Wuhan Zall vs Chongqing Dangdai Lifan 2022-01-03 07:30:00  \n",
       "715    Tianjin Teda vs Shijiazhuang Ever Bright 2022-01-03 07:30:00  \n",
       "716       Dalian Professional vs Qingdao Hainiu 2022-01-03 07:30:00  \n",
       "...                                         ...                 ...  \n",
       "54123      Birmingham Legion vs Louisville City 2022-04-02 23:30:00  \n",
       "54124  Club Universitario vs Atlético Palmaflor 2022-04-02 23:30:00  \n",
       "54125                       San Luis vs Copiapó 2022-04-02 23:30:00  \n",
       "54126                       Recoleta vs Rangers 2022-04-02 23:30:00  \n",
       "54127            Hermanos Colmenares vs Monagas 2022-04-02 23:30:00  \n",
       "\n",
       "[3032 rows x 6 columns]"
      ]
     },
     "execution_count": 285,
     "metadata": {},
     "output_type": "execute_result"
    }
   ],
   "source": [
    "fixtures[fixtures.duplicated()]"
   ]
  },
  {
   "cell_type": "code",
   "execution_count": 286,
   "id": "974be93c",
   "metadata": {},
   "outputs": [
    {
     "data": {
      "text/plain": [
       "fixture_id          0\n",
       "round_id       111424\n",
       "league_id           0\n",
       "season_id           0\n",
       "teams_name          0\n",
       "starting_at         0\n",
       "dtype: int64"
      ]
     },
     "execution_count": 286,
     "metadata": {},
     "output_type": "execute_result"
    }
   ],
   "source": [
    "fixtures.isna().sum()"
   ]
  },
  {
   "cell_type": "code",
   "execution_count": 287,
   "id": "350cde81",
   "metadata": {},
   "outputs": [
    {
     "name": "stdout",
     "output_type": "stream",
     "text": [
      "<class 'pandas.core.frame.DataFrame'>\n",
      "RangeIndex: 58843 entries, 0 to 58842\n",
      "Data columns (total 2 columns):\n",
      " #   Column     Non-Null Count  Dtype \n",
      "---  ------     --------------  ----- \n",
      " 0   team_id    58843 non-null  int64 \n",
      " 1   team_name  58843 non-null  object\n",
      "dtypes: int64(1), object(1)\n",
      "memory usage: 919.5+ KB\n"
     ]
    }
   ],
   "source": [
    "teams.info()"
   ]
  },
  {
   "cell_type": "code",
   "execution_count": 288,
   "id": "112a2162",
   "metadata": {},
   "outputs": [
    {
     "data": {
      "text/html": [
       "<div>\n",
       "<style scoped>\n",
       "    .dataframe tbody tr th:only-of-type {\n",
       "        vertical-align: middle;\n",
       "    }\n",
       "\n",
       "    .dataframe tbody tr th {\n",
       "        vertical-align: top;\n",
       "    }\n",
       "\n",
       "    .dataframe thead th {\n",
       "        text-align: right;\n",
       "    }\n",
       "</style>\n",
       "<table border=\"1\" class=\"dataframe\">\n",
       "  <thead>\n",
       "    <tr style=\"text-align: right;\">\n",
       "      <th></th>\n",
       "      <th>count</th>\n",
       "      <th>mean</th>\n",
       "      <th>std</th>\n",
       "      <th>min</th>\n",
       "      <th>25%</th>\n",
       "      <th>50%</th>\n",
       "      <th>75%</th>\n",
       "      <th>max</th>\n",
       "    </tr>\n",
       "  </thead>\n",
       "  <tbody>\n",
       "    <tr>\n",
       "      <th>team_id</th>\n",
       "      <td>58843.0</td>\n",
       "      <td>180209.66</td>\n",
       "      <td>106088.57</td>\n",
       "      <td>1.0</td>\n",
       "      <td>28930.5</td>\n",
       "      <td>243278.0</td>\n",
       "      <td>258224.5</td>\n",
       "      <td>272958.0</td>\n",
       "    </tr>\n",
       "  </tbody>\n",
       "</table>\n",
       "</div>"
      ],
      "text/plain": [
       "           count       mean        std  min      25%       50%       75%  \\\n",
       "team_id  58843.0  180209.66  106088.57  1.0  28930.5  243278.0  258224.5   \n",
       "\n",
       "              max  \n",
       "team_id  272958.0  "
      ]
     },
     "execution_count": 288,
     "metadata": {},
     "output_type": "execute_result"
    }
   ],
   "source": [
    "teams.describe().T.round(2)"
   ]
  },
  {
   "cell_type": "code",
   "execution_count": 289,
   "id": "927c421b",
   "metadata": {},
   "outputs": [
    {
     "data": {
      "text/html": [
       "<div>\n",
       "<style scoped>\n",
       "    .dataframe tbody tr th:only-of-type {\n",
       "        vertical-align: middle;\n",
       "    }\n",
       "\n",
       "    .dataframe tbody tr th {\n",
       "        vertical-align: top;\n",
       "    }\n",
       "\n",
       "    .dataframe thead th {\n",
       "        text-align: right;\n",
       "    }\n",
       "</style>\n",
       "<table border=\"1\" class=\"dataframe\">\n",
       "  <thead>\n",
       "    <tr style=\"text-align: right;\">\n",
       "      <th></th>\n",
       "      <th>team_id</th>\n",
       "      <th>team_name</th>\n",
       "    </tr>\n",
       "  </thead>\n",
       "  <tbody>\n",
       "  </tbody>\n",
       "</table>\n",
       "</div>"
      ],
      "text/plain": [
       "Empty DataFrame\n",
       "Columns: [team_id, team_name]\n",
       "Index: []"
      ]
     },
     "execution_count": 289,
     "metadata": {},
     "output_type": "execute_result"
    }
   ],
   "source": [
    "teams[teams.duplicated()]"
   ]
  },
  {
   "cell_type": "code",
   "execution_count": 290,
   "id": "81e2dfe0",
   "metadata": {},
   "outputs": [
    {
     "name": "stdout",
     "output_type": "stream",
     "text": [
      "<class 'pandas.core.frame.DataFrame'>\n",
      "RangeIndex: 2125 entries, 0 to 2124\n",
      "Data columns (total 2 columns):\n",
      " #   Column       Non-Null Count  Dtype \n",
      "---  ------       --------------  ----- \n",
      " 0   league_id    2125 non-null   int64 \n",
      " 1   league_name  2125 non-null   object\n",
      "dtypes: int64(1), object(1)\n",
      "memory usage: 33.3+ KB\n"
     ]
    }
   ],
   "source": [
    "leagues.info()"
   ]
  },
  {
   "cell_type": "code",
   "execution_count": 291,
   "id": "2fe9827c",
   "metadata": {},
   "outputs": [
    {
     "data": {
      "text/html": [
       "<div>\n",
       "<style scoped>\n",
       "    .dataframe tbody tr th:only-of-type {\n",
       "        vertical-align: middle;\n",
       "    }\n",
       "\n",
       "    .dataframe tbody tr th {\n",
       "        vertical-align: top;\n",
       "    }\n",
       "\n",
       "    .dataframe thead th {\n",
       "        text-align: right;\n",
       "    }\n",
       "</style>\n",
       "<table border=\"1\" class=\"dataframe\">\n",
       "  <thead>\n",
       "    <tr style=\"text-align: right;\">\n",
       "      <th></th>\n",
       "      <th>count</th>\n",
       "      <th>mean</th>\n",
       "      <th>std</th>\n",
       "      <th>min</th>\n",
       "      <th>25%</th>\n",
       "      <th>50%</th>\n",
       "      <th>75%</th>\n",
       "      <th>max</th>\n",
       "    </tr>\n",
       "  </thead>\n",
       "  <tbody>\n",
       "    <tr>\n",
       "      <th>league_id</th>\n",
       "      <td>2125.0</td>\n",
       "      <td>1986.9</td>\n",
       "      <td>903.92</td>\n",
       "      <td>2.0</td>\n",
       "      <td>1327.0</td>\n",
       "      <td>1954.0</td>\n",
       "      <td>2785.0</td>\n",
       "      <td>3370.0</td>\n",
       "    </tr>\n",
       "  </tbody>\n",
       "</table>\n",
       "</div>"
      ],
      "text/plain": [
       "            count    mean     std  min     25%     50%     75%     max\n",
       "league_id  2125.0  1986.9  903.92  2.0  1327.0  1954.0  2785.0  3370.0"
      ]
     },
     "execution_count": 291,
     "metadata": {},
     "output_type": "execute_result"
    }
   ],
   "source": [
    "leagues.describe().T.round(2)"
   ]
  },
  {
   "cell_type": "code",
   "execution_count": 292,
   "id": "daa91e3d",
   "metadata": {},
   "outputs": [
    {
     "data": {
      "text/html": [
       "<div>\n",
       "<style scoped>\n",
       "    .dataframe tbody tr th:only-of-type {\n",
       "        vertical-align: middle;\n",
       "    }\n",
       "\n",
       "    .dataframe tbody tr th {\n",
       "        vertical-align: top;\n",
       "    }\n",
       "\n",
       "    .dataframe thead th {\n",
       "        text-align: right;\n",
       "    }\n",
       "</style>\n",
       "<table border=\"1\" class=\"dataframe\">\n",
       "  <thead>\n",
       "    <tr style=\"text-align: right;\">\n",
       "      <th></th>\n",
       "      <th>league_id</th>\n",
       "      <th>league_name</th>\n",
       "    </tr>\n",
       "  </thead>\n",
       "  <tbody>\n",
       "  </tbody>\n",
       "</table>\n",
       "</div>"
      ],
      "text/plain": [
       "Empty DataFrame\n",
       "Columns: [league_id, league_name]\n",
       "Index: []"
      ]
     },
     "execution_count": 292,
     "metadata": {},
     "output_type": "execute_result"
    }
   ],
   "source": [
    "leagues[leagues.duplicated()]"
   ]
  },
  {
   "cell_type": "code",
   "execution_count": 293,
   "id": "52ecc92e",
   "metadata": {},
   "outputs": [
    {
     "name": "stdout",
     "output_type": "stream",
     "text": [
      "<class 'pandas.core.frame.DataFrame'>\n",
      "RangeIndex: 14345 entries, 0 to 14344\n",
      "Data columns (total 3 columns):\n",
      " #   Column       Non-Null Count  Dtype \n",
      "---  ------       --------------  ----- \n",
      " 0   season_id    14345 non-null  int64 \n",
      " 1   league_id    14345 non-null  int64 \n",
      " 2   season_name  14345 non-null  object\n",
      "dtypes: int64(2), object(1)\n",
      "memory usage: 336.3+ KB\n"
     ]
    }
   ],
   "source": [
    "seasons.info()"
   ]
  },
  {
   "cell_type": "code",
   "execution_count": 294,
   "id": "608461fb",
   "metadata": {},
   "outputs": [
    {
     "data": {
      "text/html": [
       "<div>\n",
       "<style scoped>\n",
       "    .dataframe tbody tr th:only-of-type {\n",
       "        vertical-align: middle;\n",
       "    }\n",
       "\n",
       "    .dataframe tbody tr th {\n",
       "        vertical-align: top;\n",
       "    }\n",
       "\n",
       "    .dataframe thead th {\n",
       "        text-align: right;\n",
       "    }\n",
       "</style>\n",
       "<table border=\"1\" class=\"dataframe\">\n",
       "  <thead>\n",
       "    <tr style=\"text-align: right;\">\n",
       "      <th></th>\n",
       "      <th>count</th>\n",
       "      <th>mean</th>\n",
       "      <th>std</th>\n",
       "      <th>min</th>\n",
       "      <th>25%</th>\n",
       "      <th>50%</th>\n",
       "      <th>75%</th>\n",
       "      <th>max</th>\n",
       "    </tr>\n",
       "  </thead>\n",
       "  <tbody>\n",
       "    <tr>\n",
       "      <th>season_id</th>\n",
       "      <td>14345.0</td>\n",
       "      <td>12569.19</td>\n",
       "      <td>8124.39</td>\n",
       "      <td>1.0</td>\n",
       "      <td>4005.0</td>\n",
       "      <td>15946.0</td>\n",
       "      <td>19932.0</td>\n",
       "      <td>23561.0</td>\n",
       "    </tr>\n",
       "    <tr>\n",
       "      <th>league_id</th>\n",
       "      <td>14345.0</td>\n",
       "      <td>1264.30</td>\n",
       "      <td>802.87</td>\n",
       "      <td>2.0</td>\n",
       "      <td>639.0</td>\n",
       "      <td>1213.0</td>\n",
       "      <td>1662.0</td>\n",
       "      <td>3371.0</td>\n",
       "    </tr>\n",
       "  </tbody>\n",
       "</table>\n",
       "</div>"
      ],
      "text/plain": [
       "             count      mean      std  min     25%      50%      75%      max\n",
       "season_id  14345.0  12569.19  8124.39  1.0  4005.0  15946.0  19932.0  23561.0\n",
       "league_id  14345.0   1264.30   802.87  2.0   639.0   1213.0   1662.0   3371.0"
      ]
     },
     "execution_count": 294,
     "metadata": {},
     "output_type": "execute_result"
    }
   ],
   "source": [
    "seasons.describe().T.round(2)"
   ]
  },
  {
   "cell_type": "code",
   "execution_count": 295,
   "id": "1bfb6cb9",
   "metadata": {},
   "outputs": [
    {
     "data": {
      "text/html": [
       "<div>\n",
       "<style scoped>\n",
       "    .dataframe tbody tr th:only-of-type {\n",
       "        vertical-align: middle;\n",
       "    }\n",
       "\n",
       "    .dataframe tbody tr th {\n",
       "        vertical-align: top;\n",
       "    }\n",
       "\n",
       "    .dataframe thead th {\n",
       "        text-align: right;\n",
       "    }\n",
       "</style>\n",
       "<table border=\"1\" class=\"dataframe\">\n",
       "  <thead>\n",
       "    <tr style=\"text-align: right;\">\n",
       "      <th></th>\n",
       "      <th>season_id</th>\n",
       "      <th>league_id</th>\n",
       "      <th>season_name</th>\n",
       "    </tr>\n",
       "  </thead>\n",
       "  <tbody>\n",
       "  </tbody>\n",
       "</table>\n",
       "</div>"
      ],
      "text/plain": [
       "Empty DataFrame\n",
       "Columns: [season_id, league_id, season_name]\n",
       "Index: []"
      ]
     },
     "execution_count": 295,
     "metadata": {},
     "output_type": "execute_result"
    }
   ],
   "source": [
    "seasons[seasons.duplicated()]"
   ]
  },
  {
   "cell_type": "code",
   "execution_count": 296,
   "id": "e236dac7",
   "metadata": {},
   "outputs": [
    {
     "data": {
      "text/plain": [
       "season_id      0\n",
       "league_id      0\n",
       "season_name    0\n",
       "dtype: int64"
      ]
     },
     "execution_count": 296,
     "metadata": {},
     "output_type": "execute_result"
    }
   ],
   "source": [
    "seasons.isna().sum()"
   ]
  },
  {
   "cell_type": "code",
   "execution_count": 297,
   "id": "3638a23d",
   "metadata": {},
   "outputs": [
    {
     "name": "stdout",
     "output_type": "stream",
     "text": [
      "<class 'pandas.core.frame.DataFrame'>\n",
      "RangeIndex: 300260 entries, 0 to 300259\n",
      "Data columns (total 4 columns):\n",
      " #   Column       Non-Null Count   Dtype \n",
      "---  ------       --------------   ----- \n",
      " 0   round_id     300260 non-null  int64 \n",
      " 1   round_name   300260 non-null  object\n",
      " 2   starting_at  273613 non-null  object\n",
      " 3   ending_at    273613 non-null  object\n",
      "dtypes: int64(1), object(3)\n",
      "memory usage: 9.2+ MB\n"
     ]
    }
   ],
   "source": [
    "rounds.info()"
   ]
  },
  {
   "cell_type": "code",
   "execution_count": 298,
   "id": "314920d3",
   "metadata": {},
   "outputs": [
    {
     "data": {
      "text/html": [
       "<div>\n",
       "<style scoped>\n",
       "    .dataframe tbody tr th:only-of-type {\n",
       "        vertical-align: middle;\n",
       "    }\n",
       "\n",
       "    .dataframe tbody tr th {\n",
       "        vertical-align: top;\n",
       "    }\n",
       "\n",
       "    .dataframe thead th {\n",
       "        text-align: right;\n",
       "    }\n",
       "</style>\n",
       "<table border=\"1\" class=\"dataframe\">\n",
       "  <thead>\n",
       "    <tr style=\"text-align: right;\">\n",
       "      <th></th>\n",
       "      <th>count</th>\n",
       "      <th>mean</th>\n",
       "      <th>std</th>\n",
       "      <th>min</th>\n",
       "      <th>25%</th>\n",
       "      <th>50%</th>\n",
       "      <th>75%</th>\n",
       "      <th>max</th>\n",
       "    </tr>\n",
       "  </thead>\n",
       "  <tbody>\n",
       "    <tr>\n",
       "      <th>round_id</th>\n",
       "      <td>300260.0</td>\n",
       "      <td>164370.62</td>\n",
       "      <td>101311.08</td>\n",
       "      <td>1.0</td>\n",
       "      <td>76014.75</td>\n",
       "      <td>155192.5</td>\n",
       "      <td>261023.25</td>\n",
       "      <td>338619.0</td>\n",
       "    </tr>\n",
       "  </tbody>\n",
       "</table>\n",
       "</div>"
      ],
      "text/plain": [
       "             count       mean        std  min       25%       50%        75%  \\\n",
       "round_id  300260.0  164370.62  101311.08  1.0  76014.75  155192.5  261023.25   \n",
       "\n",
       "               max  \n",
       "round_id  338619.0  "
      ]
     },
     "execution_count": 298,
     "metadata": {},
     "output_type": "execute_result"
    }
   ],
   "source": [
    "rounds.describe().T.round(2)"
   ]
  },
  {
   "cell_type": "code",
   "execution_count": 299,
   "id": "a44a1a58",
   "metadata": {},
   "outputs": [
    {
     "data": {
      "text/html": [
       "<div>\n",
       "<style scoped>\n",
       "    .dataframe tbody tr th:only-of-type {\n",
       "        vertical-align: middle;\n",
       "    }\n",
       "\n",
       "    .dataframe tbody tr th {\n",
       "        vertical-align: top;\n",
       "    }\n",
       "\n",
       "    .dataframe thead th {\n",
       "        text-align: right;\n",
       "    }\n",
       "</style>\n",
       "<table border=\"1\" class=\"dataframe\">\n",
       "  <thead>\n",
       "    <tr style=\"text-align: right;\">\n",
       "      <th></th>\n",
       "      <th>round_id</th>\n",
       "      <th>round_name</th>\n",
       "      <th>starting_at</th>\n",
       "      <th>ending_at</th>\n",
       "    </tr>\n",
       "  </thead>\n",
       "  <tbody>\n",
       "  </tbody>\n",
       "</table>\n",
       "</div>"
      ],
      "text/plain": [
       "Empty DataFrame\n",
       "Columns: [round_id, round_name, starting_at, ending_at]\n",
       "Index: []"
      ]
     },
     "execution_count": 299,
     "metadata": {},
     "output_type": "execute_result"
    }
   ],
   "source": [
    "rounds[rounds.duplicated()]"
   ]
  },
  {
   "cell_type": "markdown",
   "id": "79453475",
   "metadata": {},
   "source": [
    "# Data Prep"
   ]
  },
  {
   "cell_type": "markdown",
   "id": "4a68a6c7",
   "metadata": {},
   "source": [
    "## Season 2022/2023 Premier League"
   ]
  },
  {
   "cell_type": "code",
   "execution_count": 300,
   "id": "3065c03b",
   "metadata": {},
   "outputs": [],
   "source": [
    "# Drop duplicated matches\n",
    "fixtures = fixtures.drop_duplicates(keep='first')"
   ]
  },
  {
   "cell_type": "code",
   "execution_count": 301,
   "id": "ef11bf66",
   "metadata": {},
   "outputs": [],
   "source": [
    "# filter matches from season 2022/2023 Premier League\n",
    "fixtures_premier = fixtures[fixtures['season_id'] == 21646] "
   ]
  },
  {
   "cell_type": "code",
   "execution_count": 302,
   "id": "daffe110",
   "metadata": {},
   "outputs": [],
   "source": [
    "# split the data into home and away games\n",
    "home = stats[['fixture_id','team_id','stats_value']][stats['location']=='home']\n",
    "away = stats[['fixture_id','team_id','stats_value']][stats['location']=='away']"
   ]
  },
  {
   "cell_type": "code",
   "execution_count": 303,
   "id": "523002e5",
   "metadata": {},
   "outputs": [],
   "source": [
    "# joining tables\n",
    "home_all = (home.merge(fixtures_premier, left_on='fixture_id', right_on='fixture_id')\n",
    "                 .merge(teams, left_on='team_id', right_on='team_id')\n",
    "                 .merge(rounds, left_on='round_id', right_on='round_id')\n",
    "                )\n",
    "                  \n",
    "\n",
    "away_all = (away.merge(fixtures_premier, left_on='fixture_id', right_on='fixture_id')\n",
    "             .merge(teams, left_on='team_id', right_on='team_id')\n",
    "             .merge(rounds, left_on='round_id', right_on='round_id')\n",
    "            )\n",
    "\n",
    "all_games = home_all.merge(away_all, on='fixture_id')"
   ]
  },
  {
   "cell_type": "code",
   "execution_count": 304,
   "id": "505ad7b1",
   "metadata": {},
   "outputs": [],
   "source": [
    "cols = ['fixture_id','round_name_x', 'starting_at_y_x', 'teams_name_x', 'team_name_x', \\\n",
    "        'stats_value_x','team_name_y', 'stats_value_y' ]"
   ]
  },
  {
   "cell_type": "code",
   "execution_count": 305,
   "id": "87ea399d",
   "metadata": {},
   "outputs": [],
   "source": [
    "all_games = all_games[cols].rename(columns={'round_name_x':'round','starting_at_y_x':'date','teams_name_x':'match_name',\\\n",
    "                                            'team_name_x':'home_team','stats_value_x':'home_goals','team_name_y':'away_team',\\\n",
    "                                            'stats_value_y':'away_goals'})"
   ]
  },
  {
   "cell_type": "code",
   "execution_count": 306,
   "id": "c755caf3",
   "metadata": {},
   "outputs": [
    {
     "data": {
      "text/html": [
       "<div>\n",
       "<style scoped>\n",
       "    .dataframe tbody tr th:only-of-type {\n",
       "        vertical-align: middle;\n",
       "    }\n",
       "\n",
       "    .dataframe tbody tr th {\n",
       "        vertical-align: top;\n",
       "    }\n",
       "\n",
       "    .dataframe thead th {\n",
       "        text-align: right;\n",
       "    }\n",
       "</style>\n",
       "<table border=\"1\" class=\"dataframe\">\n",
       "  <thead>\n",
       "    <tr style=\"text-align: right;\">\n",
       "      <th></th>\n",
       "      <th>fixture_id</th>\n",
       "      <th>round</th>\n",
       "      <th>date</th>\n",
       "      <th>match_name</th>\n",
       "      <th>home_team</th>\n",
       "      <th>home_goals</th>\n",
       "      <th>away_team</th>\n",
       "      <th>away_goals</th>\n",
       "    </tr>\n",
       "  </thead>\n",
       "  <tbody>\n",
       "    <tr>\n",
       "      <th>0</th>\n",
       "      <td>18841624</td>\n",
       "      <td>1</td>\n",
       "      <td>2023-08-11</td>\n",
       "      <td>Chelsea vs Liverpool</td>\n",
       "      <td>Chelsea</td>\n",
       "      <td>1.0</td>\n",
       "      <td>Liverpool</td>\n",
       "      <td>1.0</td>\n",
       "    </tr>\n",
       "    <tr>\n",
       "      <th>1</th>\n",
       "      <td>18841617</td>\n",
       "      <td>1</td>\n",
       "      <td>2023-08-11</td>\n",
       "      <td>Arsenal vs Nottingham Forest</td>\n",
       "      <td>Arsenal</td>\n",
       "      <td>2.0</td>\n",
       "      <td>Nottingham Forest</td>\n",
       "      <td>1.0</td>\n",
       "    </tr>\n",
       "  </tbody>\n",
       "</table>\n",
       "</div>"
      ],
      "text/plain": [
       "   fixture_id round        date                    match_name home_team  \\\n",
       "0    18841624     1  2023-08-11          Chelsea vs Liverpool   Chelsea   \n",
       "1    18841617     1  2023-08-11  Arsenal vs Nottingham Forest   Arsenal   \n",
       "\n",
       "   home_goals          away_team  away_goals  \n",
       "0         1.0          Liverpool         1.0  \n",
       "1         2.0  Nottingham Forest         1.0  "
      ]
     },
     "execution_count": 306,
     "metadata": {},
     "output_type": "execute_result"
    }
   ],
   "source": [
    "all_games.head(2)"
   ]
  },
  {
   "cell_type": "markdown",
   "id": "81c50bc3",
   "metadata": {},
   "source": [
    "## Data Prep Pythagorean Expectation (First Half of the Season)"
   ]
  },
  {
   "cell_type": "markdown",
   "id": "8b6e3ff3",
   "metadata": {},
   "source": [
    "### Filter rounds from 1 to 19 (half season)"
   ]
  },
  {
   "cell_type": "code",
   "execution_count": 307,
   "id": "7b969eed",
   "metadata": {},
   "outputs": [],
   "source": [
    "half_season = all_games[all_games['round'].astype(int) <= 19]"
   ]
  },
  {
   "cell_type": "code",
   "execution_count": 308,
   "id": "8ae0f4be",
   "metadata": {},
   "outputs": [],
   "source": [
    "# indicates if the team won when was playing home\n",
    "half_season['home_win'] = [1 if  h > v else 0.5 if h == v else 0  \\\n",
    "                           for h, v in zip(half_season['home_goals'],half_season['away_goals'])]\n",
    "\n",
    "\n",
    "# indicates if the team won when was playing away\n",
    "half_season['away_win'] = [1 if  v > h  else 0.5 if h == v else 0   \\\n",
    "                           for h, v in zip(half_season['home_goals'], half_season['away_goals'])]\n",
    "\n",
    "half_season['count'] = 1"
   ]
  },
  {
   "cell_type": "code",
   "execution_count": 309,
   "id": "fc8bb8d2",
   "metadata": {},
   "outputs": [],
   "source": [
    "# Points System\n",
    "WIN = 3\n",
    "DRAW = 1"
   ]
  },
  {
   "cell_type": "code",
   "execution_count": 310,
   "id": "88b951eb",
   "metadata": {},
   "outputs": [],
   "source": [
    "# Calculate the number of points playing home\n",
    "half_season['home_points'] = [WIN if h > a else DRAW if h ==  a else 0 \\\n",
    "                              for h, a in zip(half_season['home_win'], half_season['away_win'])] "
   ]
  },
  {
   "cell_type": "code",
   "execution_count": 311,
   "id": "3ef0f93e",
   "metadata": {},
   "outputs": [],
   "source": [
    "# Calculate the number of points playing away\n",
    "half_season['away_points'] = [WIN if a > h else DRAW if a ==  h else 0 \\\n",
    "                              for h, a in zip(half_season['home_win'], half_season['away_win'])] "
   ]
  },
  {
   "cell_type": "code",
   "execution_count": 312,
   "id": "973c6c5d",
   "metadata": {},
   "outputs": [],
   "source": [
    "# Summarize total matches won at home and total goals\n",
    "home_team = (half_season[['home_team','home_win','home_goals','away_goals','home_points','count']]\n",
    "                 .groupby(['home_team'])\n",
    "                 .sum()\n",
    "                 .reset_index()\n",
    "                 .rename(columns={'home_team': 'team', 'count':'Ph', 'home_goals':'FTHGh','away_goals':'FTAGh' })\n",
    "            )"
   ]
  },
  {
   "cell_type": "code",
   "execution_count": 313,
   "id": "35d5c84f",
   "metadata": {},
   "outputs": [],
   "source": [
    "# Summarize total matches won away and total goals\n",
    "away_team = (half_season[['away_team','away_win','away_goals','home_goals','away_points','count']]\n",
    "                 .groupby(['away_team'])\n",
    "                 .sum()\n",
    "                 .reset_index()\n",
    "                 .rename(columns={'away_team': 'team', 'count':'Pa','away_goals':'FTAGa', 'home_goals':'FTHGa'})\n",
    "            )"
   ]
  },
  {
   "cell_type": "code",
   "execution_count": 314,
   "id": "84827260",
   "metadata": {},
   "outputs": [],
   "source": [
    "\n",
    "# Summarize total wins home\n",
    "total_home_win = (half_season[['home_team', 'home_win']][half_season['home_win'] == 1]\n",
    "                        .groupby('home_team')\n",
    "                        .count()\n",
    "                        .reset_index()\n",
    "                    )\n",
    "# Summarize total lost home\n",
    "total_home_lost = (half_season[['home_team', 'home_win']][half_season['home_win'] == 0]\n",
    "                        .groupby('home_team')\n",
    "                        .count()\n",
    "                        .reset_index()\n",
    "                    )\n",
    "\n",
    "# Summarize total draw home\n",
    "total_home_draw = (half_season[['home_team', 'home_win']][half_season['home_win'] == 0.5]\n",
    "                        .groupby('home_team')\n",
    "                        .count()\n",
    "                        .reset_index()\n",
    "                    )"
   ]
  },
  {
   "cell_type": "code",
   "execution_count": 315,
   "id": "c3a3f248",
   "metadata": {},
   "outputs": [],
   "source": [
    "# Summarize total draw away\n",
    "total_away_win = (half_season[['away_team', 'away_win']][half_season['away_win'] == 1]\n",
    "                        .groupby('away_team')\n",
    "                        .count()\n",
    "                        .reset_index()\n",
    "                    )\n",
    "# Summarize total draw away\n",
    "total_away_lost = (half_season[['away_team', 'away_win']][half_season['away_win'] == 0]\n",
    "                        .groupby('away_team')\n",
    "                        .count()\n",
    "                        .reset_index()\n",
    "                    )\n",
    "# Summarize total draw away\n",
    "total_away_draw = (half_season[['away_team', 'away_win']][half_season['away_win'] == 0.5]\n",
    "                        .groupby('away_team')\n",
    "                        .count()\n",
    "                        .reset_index()\n",
    "                    )"
   ]
  },
  {
   "cell_type": "code",
   "execution_count": 316,
   "id": "a1f5e464",
   "metadata": {},
   "outputs": [],
   "source": [
    "# Summary table home\n",
    "table_home = (total_home_win.merge(total_home_lost, how='left', on='home_team')\n",
    "                                     .merge(total_home_draw, how='left', on='home_team')\n",
    "                    ).rename(columns={'home_team':'Team', 'home_win_x':'Home_Win','home_win_y':'Home_Lost',\\\n",
    "                                      'home_win':'Home_Draw'}).fillna(0)"
   ]
  },
  {
   "cell_type": "code",
   "execution_count": 317,
   "id": "cc472f50",
   "metadata": {},
   "outputs": [],
   "source": [
    "# Summary table home\n",
    "table_away = (total_away_win.merge(total_away_lost, how='right', on='away_team')\n",
    "                                      .merge(total_away_draw, how='right', on='away_team')\n",
    "                     ).rename(columns={'away_team':'Team', 'away_win_x':'Away_Win','away_win_y':'Away_Lost',\\\n",
    "                                       'away_win':'Away_Draw'}).fillna(0)"
   ]
  },
  {
   "cell_type": "code",
   "execution_count": 318,
   "id": "3982edc8",
   "metadata": {},
   "outputs": [],
   "source": [
    "# Joining summary tables\n",
    "total_matches = table_home.merge(table_away, how='left', on='Team')"
   ]
  },
  {
   "cell_type": "code",
   "execution_count": 319,
   "id": "70043a91",
   "metadata": {},
   "outputs": [],
   "source": [
    "# Totals\n",
    "total_matches['total_win']  = (total_matches['Home_Win'] + total_matches['Away_Win']).astype(int)\n",
    "total_matches['total_lost'] = (total_matches['Home_Lost'] + total_matches['Away_Lost']).astype(int)\n",
    "total_matches['total_draw'] = (total_matches['Home_Draw'] + total_matches['Away_Draw']).astype(int)"
   ]
  },
  {
   "cell_type": "code",
   "execution_count": 320,
   "id": "9a93b5c5",
   "metadata": {},
   "outputs": [],
   "source": [
    "# joining matches summary\n",
    "summary_half_season = (away_team.merge(home_team, left_on='team', right_on='team')\n",
    "                       )"
   ]
  },
  {
   "cell_type": "code",
   "execution_count": 321,
   "id": "809eef3d",
   "metadata": {},
   "outputs": [],
   "source": [
    "summary_half_season['total_points'] = summary_half_season['home_points'] + summary_half_season['away_points']"
   ]
  },
  {
   "cell_type": "code",
   "execution_count": 322,
   "id": "b0df3d6a",
   "metadata": {},
   "outputs": [
    {
     "data": {
      "text/html": [
       "<div>\n",
       "<style scoped>\n",
       "    .dataframe tbody tr th:only-of-type {\n",
       "        vertical-align: middle;\n",
       "    }\n",
       "\n",
       "    .dataframe tbody tr th {\n",
       "        vertical-align: top;\n",
       "    }\n",
       "\n",
       "    .dataframe thead th {\n",
       "        text-align: right;\n",
       "    }\n",
       "</style>\n",
       "<table border=\"1\" class=\"dataframe\">\n",
       "  <thead>\n",
       "    <tr style=\"text-align: right;\">\n",
       "      <th></th>\n",
       "      <th>team</th>\n",
       "      <th>away_win</th>\n",
       "      <th>FTAGa</th>\n",
       "      <th>FTHGa</th>\n",
       "      <th>away_points</th>\n",
       "      <th>Pa</th>\n",
       "      <th>home_win</th>\n",
       "      <th>FTHGh</th>\n",
       "      <th>FTAGh</th>\n",
       "      <th>home_points</th>\n",
       "      <th>Ph</th>\n",
       "      <th>total_points</th>\n",
       "    </tr>\n",
       "  </thead>\n",
       "  <tbody>\n",
       "    <tr>\n",
       "      <th>0</th>\n",
       "      <td>AFC Bournemouth</td>\n",
       "      <td>4.5</td>\n",
       "      <td>16.0</td>\n",
       "      <td>20.0</td>\n",
       "      <td>13</td>\n",
       "      <td>9</td>\n",
       "      <td>5.5</td>\n",
       "      <td>15.0</td>\n",
       "      <td>15.0</td>\n",
       "      <td>15</td>\n",
       "      <td>10</td>\n",
       "      <td>28</td>\n",
       "    </tr>\n",
       "    <tr>\n",
       "      <th>1</th>\n",
       "      <td>Arsenal</td>\n",
       "      <td>6.0</td>\n",
       "      <td>14.0</td>\n",
       "      <td>8.0</td>\n",
       "      <td>17</td>\n",
       "      <td>9</td>\n",
       "      <td>8.0</td>\n",
       "      <td>22.0</td>\n",
       "      <td>10.0</td>\n",
       "      <td>23</td>\n",
       "      <td>10</td>\n",
       "      <td>40</td>\n",
       "    </tr>\n",
       "    <tr>\n",
       "      <th>2</th>\n",
       "      <td>Aston Villa</td>\n",
       "      <td>5.0</td>\n",
       "      <td>14.0</td>\n",
       "      <td>19.0</td>\n",
       "      <td>14</td>\n",
       "      <td>10</td>\n",
       "      <td>8.5</td>\n",
       "      <td>26.0</td>\n",
       "      <td>6.0</td>\n",
       "      <td>25</td>\n",
       "      <td>9</td>\n",
       "      <td>39</td>\n",
       "    </tr>\n",
       "    <tr>\n",
       "      <th>3</th>\n",
       "      <td>Brentford</td>\n",
       "      <td>2.5</td>\n",
       "      <td>8.0</td>\n",
       "      <td>11.0</td>\n",
       "      <td>7</td>\n",
       "      <td>9</td>\n",
       "      <td>4.5</td>\n",
       "      <td>17.0</td>\n",
       "      <td>18.0</td>\n",
       "      <td>12</td>\n",
       "      <td>10</td>\n",
       "      <td>19</td>\n",
       "    </tr>\n",
       "    <tr>\n",
       "      <th>4</th>\n",
       "      <td>Brighton &amp; Hove Albion</td>\n",
       "      <td>4.0</td>\n",
       "      <td>16.0</td>\n",
       "      <td>19.0</td>\n",
       "      <td>11</td>\n",
       "      <td>9</td>\n",
       "      <td>7.0</td>\n",
       "      <td>22.0</td>\n",
       "      <td>14.0</td>\n",
       "      <td>19</td>\n",
       "      <td>10</td>\n",
       "      <td>30</td>\n",
       "    </tr>\n",
       "  </tbody>\n",
       "</table>\n",
       "</div>"
      ],
      "text/plain": [
       "                     team  away_win  FTAGa  FTHGa  away_points  Pa  home_win  \\\n",
       "0         AFC Bournemouth       4.5   16.0   20.0           13   9       5.5   \n",
       "1                 Arsenal       6.0   14.0    8.0           17   9       8.0   \n",
       "2             Aston Villa       5.0   14.0   19.0           14  10       8.5   \n",
       "3               Brentford       2.5    8.0   11.0            7   9       4.5   \n",
       "4  Brighton & Hove Albion       4.0   16.0   19.0           11   9       7.0   \n",
       "\n",
       "   FTHGh  FTAGh  home_points  Ph  total_points  \n",
       "0   15.0   15.0           15  10            28  \n",
       "1   22.0   10.0           23  10            40  \n",
       "2   26.0    6.0           25   9            39  \n",
       "3   17.0   18.0           12  10            19  \n",
       "4   22.0   14.0           19  10            30  "
      ]
     },
     "execution_count": 322,
     "metadata": {},
     "output_type": "execute_result"
    }
   ],
   "source": [
    "summary_half_season.head()"
   ]
  },
  {
   "cell_type": "markdown",
   "id": "de2ca2ee",
   "metadata": {},
   "source": [
    "## Pythagorean Expectation"
   ]
  },
  {
   "cell_type": "code",
   "execution_count": 323,
   "id": "123fd35d",
   "metadata": {},
   "outputs": [
    {
     "data": {
      "text/html": [
       "<div>\n",
       "<style scoped>\n",
       "    .dataframe tbody tr th:only-of-type {\n",
       "        vertical-align: middle;\n",
       "    }\n",
       "\n",
       "    .dataframe tbody tr th {\n",
       "        vertical-align: top;\n",
       "    }\n",
       "\n",
       "    .dataframe thead th {\n",
       "        text-align: right;\n",
       "    }\n",
       "</style>\n",
       "<table border=\"1\" class=\"dataframe\">\n",
       "  <thead>\n",
       "    <tr style=\"text-align: right;\">\n",
       "      <th></th>\n",
       "      <th>team</th>\n",
       "      <th>away_win</th>\n",
       "      <th>FTAGa</th>\n",
       "      <th>FTHGa</th>\n",
       "      <th>away_points</th>\n",
       "      <th>Pa</th>\n",
       "      <th>home_win</th>\n",
       "      <th>FTHGh</th>\n",
       "      <th>FTAGh</th>\n",
       "      <th>home_points</th>\n",
       "      <th>Ph</th>\n",
       "      <th>total_points</th>\n",
       "      <th>W</th>\n",
       "      <th>G</th>\n",
       "      <th>GF</th>\n",
       "      <th>GA</th>\n",
       "    </tr>\n",
       "  </thead>\n",
       "  <tbody>\n",
       "    <tr>\n",
       "      <th>0</th>\n",
       "      <td>AFC Bournemouth</td>\n",
       "      <td>4.5</td>\n",
       "      <td>16.0</td>\n",
       "      <td>20.0</td>\n",
       "      <td>13</td>\n",
       "      <td>9</td>\n",
       "      <td>5.5</td>\n",
       "      <td>15.0</td>\n",
       "      <td>15.0</td>\n",
       "      <td>15</td>\n",
       "      <td>10</td>\n",
       "      <td>28</td>\n",
       "      <td>10.0</td>\n",
       "      <td>19</td>\n",
       "      <td>31.0</td>\n",
       "      <td>35.0</td>\n",
       "    </tr>\n",
       "    <tr>\n",
       "      <th>1</th>\n",
       "      <td>Arsenal</td>\n",
       "      <td>6.0</td>\n",
       "      <td>14.0</td>\n",
       "      <td>8.0</td>\n",
       "      <td>17</td>\n",
       "      <td>9</td>\n",
       "      <td>8.0</td>\n",
       "      <td>22.0</td>\n",
       "      <td>10.0</td>\n",
       "      <td>23</td>\n",
       "      <td>10</td>\n",
       "      <td>40</td>\n",
       "      <td>14.0</td>\n",
       "      <td>19</td>\n",
       "      <td>36.0</td>\n",
       "      <td>18.0</td>\n",
       "    </tr>\n",
       "  </tbody>\n",
       "</table>\n",
       "</div>"
      ],
      "text/plain": [
       "              team  away_win  FTAGa  FTHGa  away_points  Pa  home_win  FTHGh  \\\n",
       "0  AFC Bournemouth       4.5   16.0   20.0           13   9       5.5   15.0   \n",
       "1          Arsenal       6.0   14.0    8.0           17   9       8.0   22.0   \n",
       "\n",
       "   FTAGh  home_points  Ph  total_points     W   G    GF    GA  \n",
       "0   15.0           15  10            28  10.0  19  31.0  35.0  \n",
       "1   10.0           23  10            40  14.0  19  36.0  18.0  "
      ]
     },
     "execution_count": 323,
     "metadata": {},
     "output_type": "execute_result"
    }
   ],
   "source": [
    "# Calculate Total wins, games, played, goals for and goals against (home team and away team\n",
    "summary_half_season['W']=summary_half_season['home_win']+summary_half_season['away_win']\n",
    "summary_half_season['G']=summary_half_season['Ph']+summary_half_season['Pa']\n",
    "summary_half_season['GF']=summary_half_season['FTHGh']+summary_half_season['FTAGa']\n",
    "summary_half_season['GA']=summary_half_season['FTAGh']+summary_half_season['FTHGa']\n",
    "summary_half_season.head(2)"
   ]
  },
  {
   "cell_type": "code",
   "execution_count": 324,
   "id": "b3771a09",
   "metadata": {},
   "outputs": [
    {
     "data": {
      "text/html": [
       "<div>\n",
       "<style scoped>\n",
       "    .dataframe tbody tr th:only-of-type {\n",
       "        vertical-align: middle;\n",
       "    }\n",
       "\n",
       "    .dataframe tbody tr th {\n",
       "        vertical-align: top;\n",
       "    }\n",
       "\n",
       "    .dataframe thead th {\n",
       "        text-align: right;\n",
       "    }\n",
       "</style>\n",
       "<table border=\"1\" class=\"dataframe\">\n",
       "  <thead>\n",
       "    <tr style=\"text-align: right;\">\n",
       "      <th></th>\n",
       "      <th>team</th>\n",
       "      <th>away_win</th>\n",
       "      <th>FTAGa</th>\n",
       "      <th>FTHGa</th>\n",
       "      <th>away_points</th>\n",
       "      <th>Pa</th>\n",
       "      <th>home_win</th>\n",
       "      <th>FTHGh</th>\n",
       "      <th>FTAGh</th>\n",
       "      <th>home_points</th>\n",
       "      <th>Ph</th>\n",
       "      <th>total_points</th>\n",
       "      <th>W</th>\n",
       "      <th>G</th>\n",
       "      <th>GF</th>\n",
       "      <th>GA</th>\n",
       "      <th>wpc</th>\n",
       "      <th>pyth</th>\n",
       "    </tr>\n",
       "  </thead>\n",
       "  <tbody>\n",
       "    <tr>\n",
       "      <th>0</th>\n",
       "      <td>AFC Bournemouth</td>\n",
       "      <td>4.5</td>\n",
       "      <td>16.0</td>\n",
       "      <td>20.0</td>\n",
       "      <td>13</td>\n",
       "      <td>9</td>\n",
       "      <td>5.5</td>\n",
       "      <td>15.0</td>\n",
       "      <td>15.0</td>\n",
       "      <td>15</td>\n",
       "      <td>10</td>\n",
       "      <td>28</td>\n",
       "      <td>10.0</td>\n",
       "      <td>19</td>\n",
       "      <td>31.0</td>\n",
       "      <td>35.0</td>\n",
       "      <td>0.526316</td>\n",
       "      <td>0.439616</td>\n",
       "    </tr>\n",
       "    <tr>\n",
       "      <th>1</th>\n",
       "      <td>Arsenal</td>\n",
       "      <td>6.0</td>\n",
       "      <td>14.0</td>\n",
       "      <td>8.0</td>\n",
       "      <td>17</td>\n",
       "      <td>9</td>\n",
       "      <td>8.0</td>\n",
       "      <td>22.0</td>\n",
       "      <td>10.0</td>\n",
       "      <td>23</td>\n",
       "      <td>10</td>\n",
       "      <td>40</td>\n",
       "      <td>14.0</td>\n",
       "      <td>19</td>\n",
       "      <td>36.0</td>\n",
       "      <td>18.0</td>\n",
       "      <td>0.736842</td>\n",
       "      <td>0.800000</td>\n",
       "    </tr>\n",
       "  </tbody>\n",
       "</table>\n",
       "</div>"
      ],
      "text/plain": [
       "              team  away_win  FTAGa  FTHGa  away_points  Pa  home_win  FTHGh  \\\n",
       "0  AFC Bournemouth       4.5   16.0   20.0           13   9       5.5   15.0   \n",
       "1          Arsenal       6.0   14.0    8.0           17   9       8.0   22.0   \n",
       "\n",
       "   FTAGh  home_points  Ph  total_points     W   G    GF    GA       wpc  \\\n",
       "0   15.0           15  10            28  10.0  19  31.0  35.0  0.526316   \n",
       "1   10.0           23  10            40  14.0  19  36.0  18.0  0.736842   \n",
       "\n",
       "       pyth  \n",
       "0  0.439616  \n",
       "1  0.800000  "
      ]
     },
     "execution_count": 324,
     "metadata": {},
     "output_type": "execute_result"
    }
   ],
   "source": [
    "# Calculate the percentage of win and pythagorean expectation\n",
    "summary_half_season['wpc'] = summary_half_season['W']/summary_half_season['G']\n",
    "\n",
    "summary_half_season['pyth'] = summary_half_season['GF']**2/(summary_half_season['GF']**2 + summary_half_season['GA']**2)\n",
    "summary_half_season.head(2)"
   ]
  },
  {
   "cell_type": "markdown",
   "id": "bd42ab0d",
   "metadata": {},
   "source": [
    "# Exploratory Data Analysis"
   ]
  },
  {
   "cell_type": "code",
   "execution_count": 325,
   "id": "dbeb5dd9",
   "metadata": {},
   "outputs": [
    {
     "data": {
      "image/png": "[encoded data removed]",
      "text/plain": [
       "<Figure size 1000x500 with 1 Axes>"
      ]
     },
     "metadata": {},
     "output_type": "display_data"
    }
   ],
   "source": [
    "\n",
    "plt.figure(figsize=(10,5))\n",
    "plt.title('Distribution of Win Percentage and Pythagorean Expectation')\n",
    "plt.xlabel('Percentage')\n",
    "plt.ylabel('Frequency')\n",
    "sns.distplot(summary_half_season['pyth'], bins= 30)\n",
    "sns.distplot(summary_half_season['wpc'], bins=30)\n",
    "plt.legend(['Pythagoren', 'Win Percent']);\n"
   ]
  },
  {
   "cell_type": "code",
   "execution_count": 326,
   "id": "580df5ba",
   "metadata": {},
   "outputs": [
    {
     "data": {
      "image/png": "[encoded data removed]",
      "text/plain": [
       "<Figure size 640x480 with 1 Axes>"
      ]
     },
     "metadata": {},
     "output_type": "display_data"
    }
   ],
   "source": [
    "plt.scatter(summary_half_season['wpc'],summary_half_season['wpc'])\n",
    "plt.scatter(summary_half_season['pyth'], summary_half_season['wpc'])\n",
    "\n",
    "plt.legend(['Pythagoren', 'Win Percent']);\n"
   ]
  },
  {
   "cell_type": "code",
   "execution_count": 327,
   "id": "8999eb21",
   "metadata": {},
   "outputs": [
    {
     "name": "stdout",
     "output_type": "stream",
     "text": [
      "Correlation: 0.952\n"
     ]
    },
    {
     "data": {
      "image/png": "[encoded data removed]",
      "text/plain": [
       "<Figure size 640x480 with 1 Axes>"
      ]
     },
     "metadata": {},
     "output_type": "display_data"
    }
   ],
   "source": [
    "sns.regplot(data=summary_half_season,\n",
    "               x = 'pyth',\n",
    "               y= 'wpc'\n",
    "              )\n",
    "plt.xlabel('Pythagorean Expectation')\n",
    "plt.ylabel('Win Percentage')\n",
    "plt.title('Wind Percentage vs Pythagorean Expectation')\n",
    "\n",
    "print(f\"Correlation: {summary_half_season['pyth'].corr(summary_half_season['wpc']).round(3)}\")"
   ]
  },
  {
   "cell_type": "markdown",
   "id": "9a4afeb0",
   "metadata": {},
   "source": [
    "## Evaluating the results running a regression analysis"
   ]
  },
  {
   "cell_type": "code",
   "execution_count": 328,
   "id": "d0dc1ebd",
   "metadata": {},
   "outputs": [
    {
     "data": {
      "text/html": [
       "<table class=\"simpletable\">\n",
       "<caption>OLS Regression Results</caption>\n",
       "<tr>\n",
       "  <th>Dep. Variable:</th>           <td>wpc</td>       <th>  R-squared:         </th> <td>   0.907</td>\n",
       "</tr>\n",
       "<tr>\n",
       "  <th>Model:</th>                   <td>OLS</td>       <th>  Adj. R-squared:    </th> <td>   0.902</td>\n",
       "</tr>\n",
       "<tr>\n",
       "  <th>Method:</th>             <td>Least Squares</td>  <th>  F-statistic:       </th> <td>   175.0</td>\n",
       "</tr>\n",
       "<tr>\n",
       "  <th>Date:</th>             <td>Wed, 31 Jul 2024</td> <th>  Prob (F-statistic):</th> <td>1.03e-10</td>\n",
       "</tr>\n",
       "<tr>\n",
       "  <th>Time:</th>                 <td>09:32:31</td>     <th>  Log-Likelihood:    </th> <td>  30.626</td>\n",
       "</tr>\n",
       "<tr>\n",
       "  <th>No. Observations:</th>      <td>    20</td>      <th>  AIC:               </th> <td>  -57.25</td>\n",
       "</tr>\n",
       "<tr>\n",
       "  <th>Df Residuals:</th>          <td>    18</td>      <th>  BIC:               </th> <td>  -55.26</td>\n",
       "</tr>\n",
       "<tr>\n",
       "  <th>Df Model:</th>              <td>     1</td>      <th>                     </th>     <td> </td>   \n",
       "</tr>\n",
       "<tr>\n",
       "  <th>Covariance Type:</th>      <td>nonrobust</td>    <th>                     </th>     <td> </td>   \n",
       "</tr>\n",
       "</table>\n",
       "<table class=\"simpletable\">\n",
       "<tr>\n",
       "      <td></td>         <th>coef</th>     <th>std err</th>      <th>t</th>      <th>P>|t|</th>  <th>[0.025</th>    <th>0.975]</th>  \n",
       "</tr>\n",
       "<tr>\n",
       "  <th>Intercept</th> <td>    0.1097</td> <td>    0.032</td> <td>    3.429</td> <td> 0.003</td> <td>    0.042</td> <td>    0.177</td>\n",
       "</tr>\n",
       "<tr>\n",
       "  <th>pyth</th>      <td>    0.7872</td> <td>    0.059</td> <td>   13.230</td> <td> 0.000</td> <td>    0.662</td> <td>    0.912</td>\n",
       "</tr>\n",
       "</table>\n",
       "<table class=\"simpletable\">\n",
       "<tr>\n",
       "  <th>Omnibus:</th>       <td> 1.320</td> <th>  Durbin-Watson:     </th> <td>   2.483</td>\n",
       "</tr>\n",
       "<tr>\n",
       "  <th>Prob(Omnibus):</th> <td> 0.517</td> <th>  Jarque-Bera (JB):  </th> <td>   0.245</td>\n",
       "</tr>\n",
       "<tr>\n",
       "  <th>Skew:</th>          <td>-0.130</td> <th>  Prob(JB):          </th> <td>   0.885</td>\n",
       "</tr>\n",
       "<tr>\n",
       "  <th>Kurtosis:</th>      <td> 3.477</td> <th>  Cond. No.          </th> <td>    6.05</td>\n",
       "</tr>\n",
       "</table><br/><br/>Notes:<br/>[1] Standard Errors assume that the covariance matrix of the errors is correctly specified."
      ],
      "text/plain": [
       "<class 'statsmodels.iolib.summary.Summary'>\n",
       "\"\"\"\n",
       "                            OLS Regression Results                            \n",
       "==============================================================================\n",
       "Dep. Variable:                    wpc   R-squared:                       0.907\n",
       "Model:                            OLS   Adj. R-squared:                  0.902\n",
       "Method:                 Least Squares   F-statistic:                     175.0\n",
       "Date:                Wed, 31 Jul 2024   Prob (F-statistic):           1.03e-10\n",
       "Time:                        09:32:31   Log-Likelihood:                 30.626\n",
       "No. Observations:                  20   AIC:                            -57.25\n",
       "Df Residuals:                      18   BIC:                            -55.26\n",
       "Df Model:                           1                                         \n",
       "Covariance Type:            nonrobust                                         \n",
       "==============================================================================\n",
       "                 coef    std err          t      P>|t|      [0.025      0.975]\n",
       "------------------------------------------------------------------------------\n",
       "Intercept      0.1097      0.032      3.429      0.003       0.042       0.177\n",
       "pyth           0.7872      0.059     13.230      0.000       0.662       0.912\n",
       "==============================================================================\n",
       "Omnibus:                        1.320   Durbin-Watson:                   2.483\n",
       "Prob(Omnibus):                  0.517   Jarque-Bera (JB):                0.245\n",
       "Skew:                          -0.130   Prob(JB):                        0.885\n",
       "Kurtosis:                       3.477   Cond. No.                         6.05\n",
       "==============================================================================\n",
       "\n",
       "Notes:\n",
       "[1] Standard Errors assume that the covariance matrix of the errors is correctly specified.\n",
       "\"\"\""
      ]
     },
     "execution_count": 328,
     "metadata": {},
     "output_type": "execute_result"
    }
   ],
   "source": [
    "# Run the regression\n",
    "pyth_lm = smf.ols(formula = 'wpc ~ pyth', data=summary_half_season).fit()\n",
    "pyth_lm.summary()"
   ]
  },
  {
   "cell_type": "markdown",
   "id": "4855d28b",
   "metadata": {},
   "source": [
    "<center><img src=\"https://i.ibb.co/MB4VJzZ/bulb.png\" width=100 height=100/></center>\n",
    "\n",
    "1. **The histogram** showed a similar distribution between the Win percentage and Pythagorean Expectation. \n",
    "\n",
    "<br>\n",
    "\n",
    "2. **The scatterplot** with the regression line showed a positive linear relationship between Win percentage and Pythagorean Expectation with a Pearson's Correlation of 0.952\n",
    "\n",
    "<br>\n",
    "\n",
    "3. **The Regression resuls** resulted in a R² of 0.907 for explained variance between the percentage and Pythagorean Expectation with a p-value smaller than 0.05 . Intercept 0.1097, slope 0.782 indicating a very close relationship."
   ]
  },
  {
   "cell_type": "markdown",
   "id": "7b651ef6",
   "metadata": {},
   "source": [
    "# Results"
   ]
  },
  {
   "cell_type": "code",
   "execution_count": 329,
   "id": "88655924",
   "metadata": {},
   "outputs": [],
   "source": [
    "# Calculate the difference between expected and actual\n",
    "summary_half_season['total_wins'] = summary_half_season['G'] * summary_half_season['pyth']"
   ]
  },
  {
   "cell_type": "code",
   "execution_count": 330,
   "id": "3454b01d",
   "metadata": {},
   "outputs": [],
   "source": [
    "# Calculate the difference between expected and actual\n",
    "summary_half_season['expected_wins'] = summary_half_season['G'] * summary_half_season['pyth']"
   ]
  },
  {
   "cell_type": "code",
   "execution_count": 331,
   "id": "83f9699c",
   "metadata": {},
   "outputs": [],
   "source": [
    "# Calculate wins above/below expected\n",
    "summary_half_season['wins_above_expected'] = summary_half_season['W'] -  summary_half_season['expected_wins']"
   ]
  },
  {
   "cell_type": "code",
   "execution_count": 332,
   "id": "14b4f55d",
   "metadata": {},
   "outputs": [],
   "source": [
    "summary_half_season = summary_half_season.merge(total_matches[['Team','total_win','total_lost','total_draw']], \\\n",
    "                                                left_on='team', right_on='Team')"
   ]
  },
  {
   "cell_type": "code",
   "execution_count": 333,
   "id": "3e23e0b0",
   "metadata": {},
   "outputs": [],
   "source": [
    "cols = ['team', 'total_points','wpc','pyth','W','expected_wins', 'wins_above_expected', 'total_win', 'total_lost','total_draw']"
   ]
  },
  {
   "cell_type": "code",
   "execution_count": 334,
   "id": "d39e2313",
   "metadata": {},
   "outputs": [],
   "source": [
    "# Creating table results\n",
    "table_first_half = (summary_half_season[cols]\n",
    "        .sort_values('W', ascending=False)\n",
    ")\n",
    "\n",
    "table_first_half.index = np.arange(1, len(table_first_half)+1)\n",
    "\n",
    "table_first_half.columns = ['Team', 'Total Points', 'Win Percentage',' Pythagorean Expectation', 'Wins/Draw', 'Expected Wins',\\\n",
    "                           'Wins Above/Below Expected', 'Total Win', 'Total Lost','Total Draw']"
   ]
  },
  {
   "cell_type": "code",
   "execution_count": 335,
   "id": "d0f97911",
   "metadata": {},
   "outputs": [
    {
     "data": {
      "text/html": [
       "<style type=\"text/css\">\n",
       "#T_57550_row0_col6 {\n",
       "  background-color: #bbc7e0;\n",
       "  color: #000000;\n",
       "}\n",
       "#T_57550_row1_col6 {\n",
       "  background-color: #b7c5df;\n",
       "  color: #000000;\n",
       "}\n",
       "#T_57550_row2_col6 {\n",
       "  background-color: #c8cde4;\n",
       "  color: #000000;\n",
       "}\n",
       "#T_57550_row3_col6 {\n",
       "  background-color: #71a8ce;\n",
       "  color: #f1f1f1;\n",
       "}\n",
       "#T_57550_row4_col6 {\n",
       "  background-color: #65a3cb;\n",
       "  color: #f1f1f1;\n",
       "}\n",
       "#T_57550_row5_col6 {\n",
       "  background-color: #0d75b3;\n",
       "  color: #f1f1f1;\n",
       "}\n",
       "#T_57550_row6_col6 {\n",
       "  background-color: #549cc7;\n",
       "  color: #f1f1f1;\n",
       "}\n",
       "#T_57550_row7_col6 {\n",
       "  background-color: #023858;\n",
       "  color: #f1f1f1;\n",
       "}\n",
       "#T_57550_row8_col6 {\n",
       "  background-color: #fff7fb;\n",
       "  color: #000000;\n",
       "}\n",
       "#T_57550_row9_col6 {\n",
       "  background-color: #04629a;\n",
       "  color: #f1f1f1;\n",
       "}\n",
       "#T_57550_row10_col6 {\n",
       "  background-color: #6ba5cd;\n",
       "  color: #f1f1f1;\n",
       "}\n",
       "#T_57550_row11_col6 {\n",
       "  background-color: #b3c3de;\n",
       "  color: #000000;\n",
       "}\n",
       "#T_57550_row12_col6 {\n",
       "  background-color: #2182b9;\n",
       "  color: #f1f1f1;\n",
       "}\n",
       "#T_57550_row13_col6 {\n",
       "  background-color: #3790c0;\n",
       "  color: #f1f1f1;\n",
       "}\n",
       "#T_57550_row14_col6 {\n",
       "  background-color: #1379b5;\n",
       "  color: #f1f1f1;\n",
       "}\n",
       "#T_57550_row15_col6 {\n",
       "  background-color: #b1c2de;\n",
       "  color: #000000;\n",
       "}\n",
       "#T_57550_row16_col6 {\n",
       "  background-color: #1b7eb7;\n",
       "  color: #f1f1f1;\n",
       "}\n",
       "#T_57550_row17_col6 {\n",
       "  background-color: #5c9fc9;\n",
       "  color: #f1f1f1;\n",
       "}\n",
       "#T_57550_row18_col6 {\n",
       "  background-color: #358fc0;\n",
       "  color: #f1f1f1;\n",
       "}\n",
       "#T_57550_row19_col6 {\n",
       "  background-color: #046096;\n",
       "  color: #f1f1f1;\n",
       "}\n",
       "</style>\n",
       "<table id=\"T_57550\">\n",
       "  <thead>\n",
       "    <tr>\n",
       "      <th class=\"blank level0\" >&nbsp;</th>\n",
       "      <th id=\"T_57550_level0_col0\" class=\"col_heading level0 col0\" >Team</th>\n",
       "      <th id=\"T_57550_level0_col1\" class=\"col_heading level0 col1\" >Total Points</th>\n",
       "      <th id=\"T_57550_level0_col2\" class=\"col_heading level0 col2\" >Win Percentage</th>\n",
       "      <th id=\"T_57550_level0_col3\" class=\"col_heading level0 col3\" > Pythagorean Expectation</th>\n",
       "      <th id=\"T_57550_level0_col4\" class=\"col_heading level0 col4\" >Wins/Draw</th>\n",
       "      <th id=\"T_57550_level0_col5\" class=\"col_heading level0 col5\" >Expected Wins</th>\n",
       "      <th id=\"T_57550_level0_col6\" class=\"col_heading level0 col6\" >Wins Above/Below Expected</th>\n",
       "      <th id=\"T_57550_level0_col7\" class=\"col_heading level0 col7\" >Total Win</th>\n",
       "      <th id=\"T_57550_level0_col8\" class=\"col_heading level0 col8\" >Total Lost</th>\n",
       "      <th id=\"T_57550_level0_col9\" class=\"col_heading level0 col9\" >Total Draw</th>\n",
       "    </tr>\n",
       "  </thead>\n",
       "  <tbody>\n",
       "    <tr>\n",
       "      <th id=\"T_57550_level0_row0\" class=\"row_heading level0 row0\" >1</th>\n",
       "      <td id=\"T_57550_row0_col0\" class=\"data row0 col0\" >Liverpool</td>\n",
       "      <td id=\"T_57550_row0_col1\" class=\"data row0 col1\" >42</td>\n",
       "      <td id=\"T_57550_row0_col2\" class=\"data row0 col2\" >0.789474</td>\n",
       "      <td id=\"T_57550_row0_col3\" class=\"data row0 col3\" >0.855937</td>\n",
       "      <td id=\"T_57550_row0_col4\" class=\"data row0 col4\" >15.000000</td>\n",
       "      <td id=\"T_57550_row0_col5\" class=\"data row0 col5\" >16.262802</td>\n",
       "      <td id=\"T_57550_row0_col6\" class=\"data row0 col6\" >-1.262802</td>\n",
       "      <td id=\"T_57550_row0_col7\" class=\"data row0 col7\" >12</td>\n",
       "      <td id=\"T_57550_row0_col8\" class=\"data row0 col8\" >1</td>\n",
       "      <td id=\"T_57550_row0_col9\" class=\"data row0 col9\" >6</td>\n",
       "    </tr>\n",
       "    <tr>\n",
       "      <th id=\"T_57550_level0_row1\" class=\"row_heading level0 row1\" >2</th>\n",
       "      <td id=\"T_57550_row1_col0\" class=\"data row1 col0\" >Arsenal</td>\n",
       "      <td id=\"T_57550_row1_col1\" class=\"data row1 col1\" >40</td>\n",
       "      <td id=\"T_57550_row1_col2\" class=\"data row1 col2\" >0.736842</td>\n",
       "      <td id=\"T_57550_row1_col3\" class=\"data row1 col3\" >0.800000</td>\n",
       "      <td id=\"T_57550_row1_col4\" class=\"data row1 col4\" >14.000000</td>\n",
       "      <td id=\"T_57550_row1_col5\" class=\"data row1 col5\" >15.200000</td>\n",
       "      <td id=\"T_57550_row1_col6\" class=\"data row1 col6\" >-1.200000</td>\n",
       "      <td id=\"T_57550_row1_col7\" class=\"data row1 col7\" >12</td>\n",
       "      <td id=\"T_57550_row1_col8\" class=\"data row1 col8\" >3</td>\n",
       "      <td id=\"T_57550_row1_col9\" class=\"data row1 col9\" >4</td>\n",
       "    </tr>\n",
       "    <tr>\n",
       "      <th id=\"T_57550_level0_row2\" class=\"row_heading level0 row2\" >3</th>\n",
       "      <td id=\"T_57550_row2_col0\" class=\"data row2 col0\" >Manchester City</td>\n",
       "      <td id=\"T_57550_row2_col1\" class=\"data row2 col1\" >40</td>\n",
       "      <td id=\"T_57550_row2_col2\" class=\"data row2 col2\" >0.736842</td>\n",
       "      <td id=\"T_57550_row2_col3\" class=\"data row2 col3\" >0.814472</td>\n",
       "      <td id=\"T_57550_row2_col4\" class=\"data row2 col4\" >14.000000</td>\n",
       "      <td id=\"T_57550_row2_col5\" class=\"data row2 col5\" >15.474968</td>\n",
       "      <td id=\"T_57550_row2_col6\" class=\"data row2 col6\" >-1.474968</td>\n",
       "      <td id=\"T_57550_row2_col7\" class=\"data row2 col7\" >12</td>\n",
       "      <td id=\"T_57550_row2_col8\" class=\"data row2 col8\" >3</td>\n",
       "      <td id=\"T_57550_row2_col9\" class=\"data row2 col9\" >4</td>\n",
       "    </tr>\n",
       "    <tr>\n",
       "      <th id=\"T_57550_level0_row3\" class=\"row_heading level0 row3\" >4</th>\n",
       "      <td id=\"T_57550_row3_col0\" class=\"data row3 col0\" >Aston Villa</td>\n",
       "      <td id=\"T_57550_row3_col1\" class=\"data row3 col1\" >39</td>\n",
       "      <td id=\"T_57550_row3_col2\" class=\"data row3 col2\" >0.710526</td>\n",
       "      <td id=\"T_57550_row3_col3\" class=\"data row3 col3\" >0.719101</td>\n",
       "      <td id=\"T_57550_row3_col4\" class=\"data row3 col4\" >13.500000</td>\n",
       "      <td id=\"T_57550_row3_col5\" class=\"data row3 col5\" >13.662921</td>\n",
       "      <td id=\"T_57550_row3_col6\" class=\"data row3 col6\" >-0.162921</td>\n",
       "      <td id=\"T_57550_row3_col7\" class=\"data row3 col7\" >12</td>\n",
       "      <td id=\"T_57550_row3_col8\" class=\"data row3 col8\" >4</td>\n",
       "      <td id=\"T_57550_row3_col9\" class=\"data row3 col9\" >3</td>\n",
       "    </tr>\n",
       "    <tr>\n",
       "      <th id=\"T_57550_level0_row4\" class=\"row_heading level0 row4\" >5</th>\n",
       "      <td id=\"T_57550_row4_col0\" class=\"data row4 col0\" >Tottenham Hotspur</td>\n",
       "      <td id=\"T_57550_row4_col1\" class=\"data row4 col1\" >36</td>\n",
       "      <td id=\"T_57550_row4_col2\" class=\"data row4 col2\" >0.657895</td>\n",
       "      <td id=\"T_57550_row4_col3\" class=\"data row4 col3\" >0.659870</td>\n",
       "      <td id=\"T_57550_row4_col4\" class=\"data row4 col4\" >12.500000</td>\n",
       "      <td id=\"T_57550_row4_col5\" class=\"data row4 col5\" >12.537527</td>\n",
       "      <td id=\"T_57550_row4_col6\" class=\"data row4 col6\" >-0.037527</td>\n",
       "      <td id=\"T_57550_row4_col7\" class=\"data row4 col7\" >11</td>\n",
       "      <td id=\"T_57550_row4_col8\" class=\"data row4 col8\" >5</td>\n",
       "      <td id=\"T_57550_row4_col9\" class=\"data row4 col9\" >3</td>\n",
       "    </tr>\n",
       "    <tr>\n",
       "      <th id=\"T_57550_level0_row5\" class=\"row_heading level0 row5\" >6</th>\n",
       "      <td id=\"T_57550_row5_col0\" class=\"data row5 col0\" >West Ham United</td>\n",
       "      <td id=\"T_57550_row5_col1\" class=\"data row5 col1\" >33</td>\n",
       "      <td id=\"T_57550_row5_col2\" class=\"data row5 col2\" >0.605263</td>\n",
       "      <td id=\"T_57550_row5_col3\" class=\"data row5 col3\" >0.547511</td>\n",
       "      <td id=\"T_57550_row5_col4\" class=\"data row5 col4\" >11.500000</td>\n",
       "      <td id=\"T_57550_row5_col5\" class=\"data row5 col5\" >10.402715</td>\n",
       "      <td id=\"T_57550_row5_col6\" class=\"data row5 col6\" >1.097285</td>\n",
       "      <td id=\"T_57550_row5_col7\" class=\"data row5 col7\" >10</td>\n",
       "      <td id=\"T_57550_row5_col8\" class=\"data row5 col8\" >6</td>\n",
       "      <td id=\"T_57550_row5_col9\" class=\"data row5 col9\" >3</td>\n",
       "    </tr>\n",
       "    <tr>\n",
       "      <th id=\"T_57550_level0_row6\" class=\"row_heading level0 row6\" >7</th>\n",
       "      <td id=\"T_57550_row6_col0\" class=\"data row6 col0\" >Brighton & Hove Albion</td>\n",
       "      <td id=\"T_57550_row6_col1\" class=\"data row6 col1\" >30</td>\n",
       "      <td id=\"T_57550_row6_col2\" class=\"data row6 col2\" >0.578947</td>\n",
       "      <td id=\"T_57550_row6_col3\" class=\"data row6 col3\" >0.570075</td>\n",
       "      <td id=\"T_57550_row6_col4\" class=\"data row6 col4\" >11.000000</td>\n",
       "      <td id=\"T_57550_row6_col5\" class=\"data row6 col5\" >10.831425</td>\n",
       "      <td id=\"T_57550_row6_col6\" class=\"data row6 col6\" >0.168575</td>\n",
       "      <td id=\"T_57550_row6_col7\" class=\"data row6 col7\" >8</td>\n",
       "      <td id=\"T_57550_row6_col8\" class=\"data row6 col8\" >5</td>\n",
       "      <td id=\"T_57550_row6_col9\" class=\"data row6 col9\" >6</td>\n",
       "    </tr>\n",
       "    <tr>\n",
       "      <th id=\"T_57550_level0_row7\" class=\"row_heading level0 row7\" >8</th>\n",
       "      <td id=\"T_57550_row7_col0\" class=\"data row7 col0\" >Manchester United</td>\n",
       "      <td id=\"T_57550_row7_col1\" class=\"data row7 col1\" >31</td>\n",
       "      <td id=\"T_57550_row7_col2\" class=\"data row7 col2\" >0.552632</td>\n",
       "      <td id=\"T_57550_row7_col3\" class=\"data row7 col3\" >0.413696</td>\n",
       "      <td id=\"T_57550_row7_col4\" class=\"data row7 col4\" >10.500000</td>\n",
       "      <td id=\"T_57550_row7_col5\" class=\"data row7 col5\" >7.860225</td>\n",
       "      <td id=\"T_57550_row7_col6\" class=\"data row7 col6\" >2.639775</td>\n",
       "      <td id=\"T_57550_row7_col7\" class=\"data row7 col7\" >10</td>\n",
       "      <td id=\"T_57550_row7_col8\" class=\"data row7 col8\" >8</td>\n",
       "      <td id=\"T_57550_row7_col9\" class=\"data row7 col9\" >1</td>\n",
       "    </tr>\n",
       "    <tr>\n",
       "      <th id=\"T_57550_level0_row8\" class=\"row_heading level0 row8\" >9</th>\n",
       "      <td id=\"T_57550_row8_col0\" class=\"data row8 col0\" >Newcastle United</td>\n",
       "      <td id=\"T_57550_row8_col1\" class=\"data row8 col1\" >29</td>\n",
       "      <td id=\"T_57550_row8_col2\" class=\"data row8 col2\" >0.526316</td>\n",
       "      <td id=\"T_57550_row8_col3\" class=\"data row8 col3\" >0.686560</td>\n",
       "      <td id=\"T_57550_row8_col4\" class=\"data row8 col4\" >10.000000</td>\n",
       "      <td id=\"T_57550_row8_col5\" class=\"data row8 col5\" >13.044634</td>\n",
       "      <td id=\"T_57550_row8_col6\" class=\"data row8 col6\" >-3.044634</td>\n",
       "      <td id=\"T_57550_row8_col7\" class=\"data row8 col7\" >9</td>\n",
       "      <td id=\"T_57550_row8_col8\" class=\"data row8 col8\" >8</td>\n",
       "      <td id=\"T_57550_row8_col9\" class=\"data row8 col9\" >2</td>\n",
       "    </tr>\n",
       "    <tr>\n",
       "      <th id=\"T_57550_level0_row9\" class=\"row_heading level0 row9\" >10</th>\n",
       "      <td id=\"T_57550_row9_col0\" class=\"data row9 col0\" >AFC Bournemouth</td>\n",
       "      <td id=\"T_57550_row9_col1\" class=\"data row9 col1\" >28</td>\n",
       "      <td id=\"T_57550_row9_col2\" class=\"data row9 col2\" >0.526316</td>\n",
       "      <td id=\"T_57550_row9_col3\" class=\"data row9 col3\" >0.439616</td>\n",
       "      <td id=\"T_57550_row9_col4\" class=\"data row9 col4\" >10.000000</td>\n",
       "      <td id=\"T_57550_row9_col5\" class=\"data row9 col5\" >8.352699</td>\n",
       "      <td id=\"T_57550_row9_col6\" class=\"data row9 col6\" >1.647301</td>\n",
       "      <td id=\"T_57550_row9_col7\" class=\"data row9 col7\" >8</td>\n",
       "      <td id=\"T_57550_row9_col8\" class=\"data row9 col8\" >7</td>\n",
       "      <td id=\"T_57550_row9_col9\" class=\"data row9 col9\" >4</td>\n",
       "    </tr>\n",
       "    <tr>\n",
       "      <th id=\"T_57550_level0_row10\" class=\"row_heading level0 row10\" >11</th>\n",
       "      <td id=\"T_57550_row10_col0\" class=\"data row10 col0\" >Everton</td>\n",
       "      <td id=\"T_57550_row10_col1\" class=\"data row10 col1\" >26</td>\n",
       "      <td id=\"T_57550_row10_col2\" class=\"data row10 col2\" >0.473684</td>\n",
       "      <td id=\"T_57550_row10_col3\" class=\"data row10 col3\" >0.479600</td>\n",
       "      <td id=\"T_57550_row10_col4\" class=\"data row10 col4\" >9.000000</td>\n",
       "      <td id=\"T_57550_row10_col5\" class=\"data row10 col5\" >9.112406</td>\n",
       "      <td id=\"T_57550_row10_col6\" class=\"data row10 col6\" >-0.112406</td>\n",
       "      <td id=\"T_57550_row10_col7\" class=\"data row10 col7\" >8</td>\n",
       "      <td id=\"T_57550_row10_col8\" class=\"data row10 col8\" >9</td>\n",
       "      <td id=\"T_57550_row10_col9\" class=\"data row10 col9\" >2</td>\n",
       "    </tr>\n",
       "    <tr>\n",
       "      <th id=\"T_57550_level0_row11\" class=\"row_heading level0 row11\" >12</th>\n",
       "      <td id=\"T_57550_row11_col0\" class=\"data row11 col0\" >Chelsea</td>\n",
       "      <td id=\"T_57550_row11_col1\" class=\"data row11 col1\" >25</td>\n",
       "      <td id=\"T_57550_row11_col2\" class=\"data row11 col2\" >0.473684</td>\n",
       "      <td id=\"T_57550_row11_col3\" class=\"data row11 col3\" >0.533296</td>\n",
       "      <td id=\"T_57550_row11_col4\" class=\"data row11 col4\" >9.000000</td>\n",
       "      <td id=\"T_57550_row11_col5\" class=\"data row11 col5\" >10.132630</td>\n",
       "      <td id=\"T_57550_row11_col6\" class=\"data row11 col6\" >-1.132630</td>\n",
       "      <td id=\"T_57550_row11_col7\" class=\"data row11 col7\" >7</td>\n",
       "      <td id=\"T_57550_row11_col8\" class=\"data row11 col8\" >8</td>\n",
       "      <td id=\"T_57550_row11_col9\" class=\"data row11 col9\" >4</td>\n",
       "    </tr>\n",
       "    <tr>\n",
       "      <th id=\"T_57550_level0_row12\" class=\"row_heading level0 row12\" >13</th>\n",
       "      <td id=\"T_57550_row12_col0\" class=\"data row12 col0\" >Wolverhampton Wanderers</td>\n",
       "      <td id=\"T_57550_row12_col1\" class=\"data row12 col1\" >25</td>\n",
       "      <td id=\"T_57550_row12_col2\" class=\"data row12 col2\" >0.473684</td>\n",
       "      <td id=\"T_57550_row12_col3\" class=\"data row12 col3\" >0.431361</td>\n",
       "      <td id=\"T_57550_row12_col4\" class=\"data row12 col4\" >9.000000</td>\n",
       "      <td id=\"T_57550_row12_col5\" class=\"data row12 col5\" >8.195858</td>\n",
       "      <td id=\"T_57550_row12_col6\" class=\"data row12 col6\" >0.804142</td>\n",
       "      <td id=\"T_57550_row12_col7\" class=\"data row12 col7\" >7</td>\n",
       "      <td id=\"T_57550_row12_col8\" class=\"data row12 col8\" >8</td>\n",
       "      <td id=\"T_57550_row12_col9\" class=\"data row12 col9\" >4</td>\n",
       "    </tr>\n",
       "    <tr>\n",
       "      <th id=\"T_57550_level0_row13\" class=\"row_heading level0 row13\" >14</th>\n",
       "      <td id=\"T_57550_row13_col0\" class=\"data row13 col0\" >Fulham</td>\n",
       "      <td id=\"T_57550_row13_col1\" class=\"data row13 col1\" >21</td>\n",
       "      <td id=\"T_57550_row13_col2\" class=\"data row13 col2\" >0.394737</td>\n",
       "      <td id=\"T_57550_row13_col3\" class=\"data row13 col3\" >0.368996</td>\n",
       "      <td id=\"T_57550_row13_col4\" class=\"data row13 col4\" >7.500000</td>\n",
       "      <td id=\"T_57550_row13_col5\" class=\"data row13 col5\" >7.010917</td>\n",
       "      <td id=\"T_57550_row13_col6\" class=\"data row13 col6\" >0.489083</td>\n",
       "      <td id=\"T_57550_row13_col7\" class=\"data row13 col7\" >6</td>\n",
       "      <td id=\"T_57550_row13_col8\" class=\"data row13 col8\" >10</td>\n",
       "      <td id=\"T_57550_row13_col9\" class=\"data row13 col9\" >3</td>\n",
       "    </tr>\n",
       "    <tr>\n",
       "      <th id=\"T_57550_level0_row14\" class=\"row_heading level0 row14\" >15</th>\n",
       "      <td id=\"T_57550_row14_col0\" class=\"data row14 col0\" >Crystal Palace</td>\n",
       "      <td id=\"T_57550_row14_col1\" class=\"data row14 col1\" >18</td>\n",
       "      <td id=\"T_57550_row14_col2\" class=\"data row14 col2\" >0.368421</td>\n",
       "      <td id=\"T_57550_row14_col3\" class=\"data row14 col3\" >0.315284</td>\n",
       "      <td id=\"T_57550_row14_col4\" class=\"data row14 col4\" >7.000000</td>\n",
       "      <td id=\"T_57550_row14_col5\" class=\"data row14 col5\" >5.990393</td>\n",
       "      <td id=\"T_57550_row14_col6\" class=\"data row14 col6\" >1.009607</td>\n",
       "      <td id=\"T_57550_row14_col7\" class=\"data row14 col7\" >4</td>\n",
       "      <td id=\"T_57550_row14_col8\" class=\"data row14 col8\" >9</td>\n",
       "      <td id=\"T_57550_row14_col9\" class=\"data row14 col9\" >6</td>\n",
       "    </tr>\n",
       "    <tr>\n",
       "      <th id=\"T_57550_level0_row15\" class=\"row_heading level0 row15\" >16</th>\n",
       "      <td id=\"T_57550_row15_col0\" class=\"data row15 col0\" >Brentford</td>\n",
       "      <td id=\"T_57550_row15_col1\" class=\"data row15 col1\" >19</td>\n",
       "      <td id=\"T_57550_row15_col2\" class=\"data row15 col2\" >0.368421</td>\n",
       "      <td id=\"T_57550_row15_col3\" class=\"data row15 col3\" >0.426330</td>\n",
       "      <td id=\"T_57550_row15_col4\" class=\"data row15 col4\" >7.000000</td>\n",
       "      <td id=\"T_57550_row15_col5\" class=\"data row15 col5\" >8.100273</td>\n",
       "      <td id=\"T_57550_row15_col6\" class=\"data row15 col6\" >-1.100273</td>\n",
       "      <td id=\"T_57550_row15_col7\" class=\"data row15 col7\" >5</td>\n",
       "      <td id=\"T_57550_row15_col8\" class=\"data row15 col8\" >10</td>\n",
       "      <td id=\"T_57550_row15_col9\" class=\"data row15 col9\" >4</td>\n",
       "    </tr>\n",
       "    <tr>\n",
       "      <th id=\"T_57550_level0_row16\" class=\"row_heading level0 row16\" >17</th>\n",
       "      <td id=\"T_57550_row16_col0\" class=\"data row16 col0\" >Nottingham Forest</td>\n",
       "      <td id=\"T_57550_row16_col1\" class=\"data row16 col1\" >17</td>\n",
       "      <td id=\"T_57550_row16_col2\" class=\"data row16 col2\" >0.342105</td>\n",
       "      <td id=\"T_57550_row16_col3\" class=\"data row16 col3\" >0.295122</td>\n",
       "      <td id=\"T_57550_row16_col4\" class=\"data row16 col4\" >6.500000</td>\n",
       "      <td id=\"T_57550_row16_col5\" class=\"data row16 col5\" >5.607317</td>\n",
       "      <td id=\"T_57550_row16_col6\" class=\"data row16 col6\" >0.892683</td>\n",
       "      <td id=\"T_57550_row16_col7\" class=\"data row16 col7\" >4</td>\n",
       "      <td id=\"T_57550_row16_col8\" class=\"data row16 col8\" >10</td>\n",
       "      <td id=\"T_57550_row16_col9\" class=\"data row16 col9\" >5</td>\n",
       "    </tr>\n",
       "    <tr>\n",
       "      <th id=\"T_57550_level0_row17\" class=\"row_heading level0 row17\" >18</th>\n",
       "      <td id=\"T_57550_row17_col0\" class=\"data row17 col0\" >Luton Town</td>\n",
       "      <td id=\"T_57550_row17_col1\" class=\"data row17 col1\" >15</td>\n",
       "      <td id=\"T_57550_row17_col2\" class=\"data row17 col2\" >0.289474</td>\n",
       "      <td id=\"T_57550_row17_col3\" class=\"data row17 col3\" >0.285149</td>\n",
       "      <td id=\"T_57550_row17_col4\" class=\"data row17 col4\" >5.500000</td>\n",
       "      <td id=\"T_57550_row17_col5\" class=\"data row17 col5\" >5.417822</td>\n",
       "      <td id=\"T_57550_row17_col6\" class=\"data row17 col6\" >0.082178</td>\n",
       "      <td id=\"T_57550_row17_col7\" class=\"data row17 col7\" >4</td>\n",
       "      <td id=\"T_57550_row17_col8\" class=\"data row17 col8\" >12</td>\n",
       "      <td id=\"T_57550_row17_col9\" class=\"data row17 col9\" >3</td>\n",
       "    </tr>\n",
       "    <tr>\n",
       "      <th id=\"T_57550_level0_row18\" class=\"row_heading level0 row18\" >19</th>\n",
       "      <td id=\"T_57550_row18_col0\" class=\"data row18 col0\" >Burnley</td>\n",
       "      <td id=\"T_57550_row18_col1\" class=\"data row18 col1\" >11</td>\n",
       "      <td id=\"T_57550_row18_col2\" class=\"data row18 col2\" >0.210526</td>\n",
       "      <td id=\"T_57550_row18_col3\" class=\"data row18 col3\" >0.183258</td>\n",
       "      <td id=\"T_57550_row18_col4\" class=\"data row18 col4\" >4.000000</td>\n",
       "      <td id=\"T_57550_row18_col5\" class=\"data row18 col5\" >3.481900</td>\n",
       "      <td id=\"T_57550_row18_col6\" class=\"data row18 col6\" >0.518100</td>\n",
       "      <td id=\"T_57550_row18_col7\" class=\"data row18 col7\" >3</td>\n",
       "      <td id=\"T_57550_row18_col8\" class=\"data row18 col8\" >14</td>\n",
       "      <td id=\"T_57550_row18_col9\" class=\"data row18 col9\" >2</td>\n",
       "    </tr>\n",
       "    <tr>\n",
       "      <th id=\"T_57550_level0_row19\" class=\"row_heading level0 row19\" >20</th>\n",
       "      <td id=\"T_57550_row19_col0\" class=\"data row19 col0\" >Sheffield United</td>\n",
       "      <td id=\"T_57550_row19_col1\" class=\"data row19 col1\" >9</td>\n",
       "      <td id=\"T_57550_row19_col2\" class=\"data row19 col2\" >0.184211</td>\n",
       "      <td id=\"T_57550_row19_col3\" class=\"data row19 col3\" >0.092440</td>\n",
       "      <td id=\"T_57550_row19_col4\" class=\"data row19 col4\" >3.500000</td>\n",
       "      <td id=\"T_57550_row19_col5\" class=\"data row19 col5\" >1.756368</td>\n",
       "      <td id=\"T_57550_row19_col6\" class=\"data row19 col6\" >1.743632</td>\n",
       "      <td id=\"T_57550_row19_col7\" class=\"data row19 col7\" >2</td>\n",
       "      <td id=\"T_57550_row19_col8\" class=\"data row19 col8\" >14</td>\n",
       "      <td id=\"T_57550_row19_col9\" class=\"data row19 col9\" >3</td>\n",
       "    </tr>\n",
       "  </tbody>\n",
       "</table>\n"
      ],
      "text/plain": [
       "<pandas.io.formats.style.Styler at 0x1dd80a4f730>"
      ]
     },
     "execution_count": 335,
     "metadata": {},
     "output_type": "execute_result"
    }
   ],
   "source": [
    "table_first_half.style.background_gradient(axis=0, subset=['Wins Above/Below Expected'])"
   ]
  },
  {
   "cell_type": "markdown",
   "id": "f45972a8",
   "metadata": {},
   "source": [
    "<center><img src=\"https://i.ibb.co/MB4VJzZ/bulb.png\" width=100 height=100/></center>\n",
    "\n",
    "Considering `Manchester United` and `Newcastle United` that resulted in a more extreme difference.\n",
    "\n",
    "`Manchester United`(8) resulted in 2.69 indicating that the team overperformed in the first half of the season. There is a signifcant chance that team will perform poorly on the second half of the season\n",
    "\n",
    "`Newcastle United`(9) resulted in -3.04 indicating that the team underperformed in the first half of the season. There is a significant chance that the team will perform better on the second half of the season\n",
    "\n",
    "\n",
    "It seems that the other teams are going to perform close to expected for the second half of the season. They are in a comfortable position."
   ]
  },
  {
   "cell_type": "markdown",
   "id": "1cbe7860",
   "metadata": {},
   "source": [
    "# Results for the final season\n",
    "\n",
    "Source: https://1x2stats.com/en-gb/ENG/2023/Premier-League/table/?da=2023-08-11&a=2024-05-19"
   ]
  },
  {
   "cell_type": "markdown",
   "id": "6f20ff29",
   "metadata": {},
   "source": [
    "\n",
    "    \n",
    "<center><img src=\"https://i.postimg.cc/TYPVFhyp/table-season.png\" width=900 height=1100 /></center>"
   ]
  },
  {
   "cell_type": "markdown",
   "id": "c13a9b60",
   "metadata": {},
   "source": [
    "* ## Power BI Viz\n",
    "### [Premier League Analaysis](https://app.powerbi.com/view?r=eyJrIjoiOGRjMGMyNWEtMGExNS00MjAzLTk1MmYtMTk5YjZhZDhhMjk5IiwidCI6IjhkODQwNjdkLTlhZDctNDU3Mi05YjEwLTEzM2QzNjQ2MmFhYSIsImMiOjF9)"
   ]
  },
  {
   "cell_type": "markdown",
   "id": "d84202a4",
   "metadata": {},
   "source": [
    "\n",
    "    \n",
    "    \n",
    "\n",
    "<center><img src=\"https://i.ibb.co/RCpybK6/2024-07-31-09-33-52-Sports-Data-Analysis-Power-BI.png\" width=1000 height=1000 /></center>"
   ]
  },
  {
   "cell_type": "markdown",
   "id": "b8aa6b44",
   "metadata": {},
   "source": [
    "\n",
    "    \n",
    "    \n",
    "\n",
    "<center><img src=\"https://i.ibb.co/R4FdjBb/2024-07-31-09-34-09-Sports-Data-Analysis-Power-BI.png\" width=1000 height=1000 /></center>"
   ]
  },
  {
   "cell_type": "markdown",
   "id": "8b364ede",
   "metadata": {},
   "source": [
    "# References:\n",
    "\n",
    "**Sports Performance Analytics Specialization - University of Michigan**\n",
    "\n",
    "https://www.coursera.org/specializations/sports-analytics\n",
    "\n",
    "\n",
    "**Pythagorean Expectation**\n",
    "\n",
    "https://en.wikipedia.org/wiki/Pythagorean_expectation\n",
    "\n",
    "**Premier League**\n",
    "\n",
    "https://en.wikipedia.org/wiki/Premier_League\n"
   ]
  },
  {
   "cell_type": "markdown",
   "id": "4d500112",
   "metadata": {},
   "source": [
    "\n",
    "\n",
    "<center><img src=\"https://cdn.prod.website-files.com/646218c67da47160c64a84d5/64634be786d11debe86c8c42_86.png\" width=200 height=200 /></center>"
   ]
  }
 ],
 "metadata": {
  "kernelspec": {
   "display_name": "Python 3 (ipykernel)",
   "language": "python",
   "name": "python3"
  },
  "language_info": {
   "codemirror_mode": {
    "name": "ipython",
    "version": 3
   },
   "file_extension": ".py",
   "mimetype": "text/x-python",
   "name": "python",
   "nbconvert_exporter": "python",
   "pygments_lexer": "ipython3",
   "version": "3.9.13"
  }
 },
 "nbformat": 4,
 "nbformat_minor": 5
}
